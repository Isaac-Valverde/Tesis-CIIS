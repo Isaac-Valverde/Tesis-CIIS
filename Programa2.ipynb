{
 "cells": [
  {
   "cell_type": "code",
   "execution_count": 1,
   "id": "598ff195",
   "metadata": {},
   "outputs": [],
   "source": [
    "#Universidad Nacional Autónoma de México\n",
    "#Posgrado en Ciencias de la Tierra \n",
    "#Campo 1, geofísica de la Tierra sólida, sismología\n",
    "\n",
    "#Elaborado por Isaac Valverde, 2022\n",
    "\n",
    "#Programa 2: Notebook de python 3 que realiza la resolición del ejemplo incluido en (Nocquet, 2018) de un caso sintético usando la estrategia semianalítica que propone así como el método MCMC \n",
    "#Referencia: Nocquet, J.-M. (2018). Stochastic static fault slip inversion from geodetic data with non-negativity and bound constraints. Geophysical Journal International, 214 (1), 366–385. 2, 13, 24, 26, 27\n",
    "\n",
    "#Nota: Debido a que en el muestreo con MCMC se utilizan números pseudoaleatorios, los resultados obtenidos con este método serán distintos con cada corrida"
   ]
  },
  {
   "cell_type": "code",
   "execution_count": 2,
   "id": "4b7de100",
   "metadata": {},
   "outputs": [],
   "source": [
    "from scipy.stats.mvn import mvnun\n",
    "import numpy as np\n",
    "from scipy.stats import norm\n",
    "from scipy.stats import truncnorm\n",
    "#from scipy.stats import multivariate_normal as mvn\n",
    "#import scipy.stats as stats\n",
    "import matplotlib.pyplot as plt\n",
    "import time"
   ]
  },
  {
   "cell_type": "code",
   "execution_count": 3,
   "id": "ded6a317",
   "metadata": {},
   "outputs": [],
   "source": [
    "#Función que evalúa una pdf normal bidimensional de los residuos (verosimilitud)\n",
    "#Entradas\n",
    "#m1: \n",
    "#m2: \n",
    "#G: Arreglo numpy (Matriz de (número de datos)x(número de parámetros) que corresponde al kernel de la inversión).\n",
    "#d: Arreglo numpy (vector columna) que contiene las observaciones.\n",
    "#Cdinv: Arreglo numpy que corresponde a la inversa de la matriz de covarianza de los datos.\n",
    "#Kd: Factor de normalización para la pdf normal correspondiente a la verosimilitud.\n",
    "#Salida\n",
    "#sigmlk: Logaritmo natural de la muestra de la verosimilitud.\n",
    "\n",
    "def likelihood(m1,m2,G,d,Cdinv,Kd):\n",
    "    #Se obtiene el producto de G por m (datos calculados a partir del modelo directo)\n",
    "    Gm=np.matmul(G,np.array([[m1],[m2]]))\n",
    "    sigmlk0=Kd*np.exp(-0.5*np.matmul(np.matmul(np.transpose(Gm-d),Cdinv),(Gm-d)))\n",
    "    #Se obtiene el logaritmo natural de la muestra\n",
    "    sigmlk=np.log(sigmlk0[0])\n",
    "    return sigmlk"
   ]
  },
  {
   "cell_type": "code",
   "execution_count": 4,
   "id": "c5df9942",
   "metadata": {},
   "outputs": [],
   "source": [
    "#Función que evalúa una pdf normal bidimensional para los parámetros (apriori)\n",
    "#Entradas\n",
    "#m1: \n",
    "#m2:\n",
    "#m0:\n",
    "#Cminv:\n",
    "#Km:\n",
    "#Salida\n",
    "#ln_prior_val: Logaritmo natural de la muestra de la apriori.\n",
    "\n",
    "def apriori(m1,m2,m0,Cminv,Km):\n",
    "    #Se construye un arreglo numpy con los parámetros \n",
    "    m=np.array([[m1],[m2]])\n",
    "    sigmap0=Km*np.exp(-0.5*np.matmul(np.matmul(np.transpose(m-m0),Cminv),(m-m0)))\n",
    "    #Se obtiene el logaritmo natural de la muestra\n",
    "    sigmap=np.log(sigmap0[0])\n",
    "    return sigmap"
   ]
  },
  {
   "cell_type": "code",
   "execution_count": 5,
   "id": "6e92f17d",
   "metadata": {},
   "outputs": [],
   "source": [
    "#Función que obtiene una muestra de una pdf posterior calculada a partir de la apriori y la verosimilitud usando el teorema de Bayes\n",
    "#Entradas\n",
    "#parametros: Arreglo numpy que contiene los dos parámetros del modelo de una recta [pendiente, ordenada al origen].\n",
    "#Salida\n",
    "#lnprob: Muestra de la posterior.\n",
    "\n",
    "def posterior(m1,m2,G,d,m0,Cdinv,Cminv,Kd,Km):\n",
    "    lnlk=likelihood(m1,m2,G,d,Cdinv,Kd)\n",
    "    lnp=apriori(m1,m2,m0,Cminv,Km)\n",
    "    lnposterior=lnlk+lnp\n",
    "    return lnposterior"
   ]
  },
  {
   "cell_type": "code",
   "execution_count": 6,
   "id": "8d2bae43",
   "metadata": {},
   "outputs": [],
   "source": [
    "#Cálculo de la medía\n",
    "def TNmean(a,b,m,sd,ndx=10000):\n",
    "    ai=a\n",
    "    bi=b\n",
    "    xi=np.linspace(ai,bi,ndx)\n",
    "    fi=(norm.pdf((xi-m)/sd)/(norm.cdf((bi-m)/sd)-norm.cdf((ai-m)/sd)))*(1/sd)\n",
    "    I=np.trapz(fi*xi,x=xi,dx=(xi[1]-xi[0]))\n",
    "    return I"
   ]
  },
  {
   "cell_type": "code",
   "execution_count": 7,
   "id": "00503c4a",
   "metadata": {},
   "outputs": [],
   "source": [
    "def TNvar(a,b,m,sd,ndx=10000):\n",
    "    ai=a\n",
    "    bi=b\n",
    "    xi=np.linspace(ai,bi,ndx)\n",
    "    fi=(norm.pdf((xi-m)/sd)/(norm.cdf((bi-m)/sd)-norm.cdf((ai-m)/sd)))*(1/sd)\n",
    "    I=np.trapz(fi*(xi-TNmean(a,b,m,sd,ndx))**2,x=xi,dx=(xi[1]-xi[0]))\n",
    "    return I"
   ]
  },
  {
   "cell_type": "code",
   "execution_count": 8,
   "id": "a362620e",
   "metadata": {},
   "outputs": [],
   "source": [
    "def CV(a,b,m,sd,ndx=10000):\n",
    "    Ans=np.zeros([len(m)])\n",
    "    for i in range(0, len(m)):\n",
    "        mean=TNmean(a,b,m[i],sd[i],ndx)\n",
    "        std=(TNvar(a,b,m[i],sd[i],ndx))**(0.5)\n",
    "        Ans[i]=(std/mean)*100\n",
    "    return Ans"
   ]
  },
  {
   "cell_type": "code",
   "execution_count": 9,
   "id": "ef4b2418",
   "metadata": {},
   "outputs": [],
   "source": [
    "#------------------------Datos Nocquet------------------------\n",
    "\n",
    "#Se define el número de datos \n",
    "Nd=3\n",
    "#Se define el número de parámetros\n",
    "Nm=2\n",
    "#Se define la matriz que relaciona los datos con los parámetros (kernel?) \n",
    "G=np.array([[-7,-4],[1,10],[2,-11]])\n",
    "#Se define la transpuesta de la matriz G\n",
    "GT=np.transpose(G)\n",
    "#Se define el vector de datos\n",
    "d=np.array([[10],[3],[-5]])\n",
    "#Se define la matriz de covarianza de los datos\n",
    "Cd=(5**2)*np.identity(Nd)"
   ]
  },
  {
   "cell_type": "code",
   "execution_count": 10,
   "id": "73233718",
   "metadata": {},
   "outputs": [],
   "source": [
    "#------------------------Espacio de parámetros------------------------\n",
    "\n",
    "#Se define el límite inferior de cada parámetro\n",
    "a1=0\n",
    "a2=0\n",
    "#Se define un vector columna con el límite inferior de cada parámetro\n",
    "a=np.array([[a1],[a2]])\n",
    "#Se define el límite superior de cada parámetro\n",
    "b1=1\n",
    "b2=1\n",
    "#Se define un vector columna con el límite superior de cada parámetro\n",
    "b=np.array([[b1],[b2]])\n",
    "#Se define el espacio de parámetros (m1 y m2)\n",
    "m1=np.linspace(a1, b1, num=500)\n",
    "m2=np.linspace(a2, b2, num=500)\n",
    "#Se define una malla para el dominio del espacio de parámetros\n",
    "M1,M2=np.meshgrid(m1, m2)\n",
    "#Se define un vector con la media de los parámetros (pp 372, primer parrafo, tercer renglón)\n",
    "m0=np.array([[b1/2],[b2/2]])\n",
    "#Se define un valor de la constante \"alpha\" para la aproximación\n",
    "alpha=8\n",
    "#Se define la desviación estandar (pp 373, primer párrafo, quinto renglón)\n",
    "sigma=alpha*(b1/2)\n",
    "#Se define la matriz de covarianza de los parámetros (pp) (pp 372, primer parrafo, segundo renglón)\n",
    "Cm=(sigma**2)*np.identity(2)"
   ]
  },
  {
   "cell_type": "code",
   "execution_count": null,
   "id": "659c436a",
   "metadata": {},
   "outputs": [],
   "source": []
  },
  {
   "cell_type": "code",
   "execution_count": 11,
   "id": "20562f9c",
   "metadata": {},
   "outputs": [],
   "source": [
    "#Se toma un tiempo de inicio para medir el tiempo de ejecución de la estrategia semianalítica (primera parte)\n",
    "start_sa1=time.perf_counter()\n",
    "\n",
    "#Se define la inversa de la matriz de covariana de los datos (Matriz de precisión) \n",
    "Cdinv=np.linalg.inv(Cd)\n",
    "#Se define la inversa la matriz de covarianza de los parámetros\n",
    "Cminv=np.linalg.inv(Cm)\n",
    "\n",
    "#------------------------Expectativa y matriz de covarianza posterior------------------------\n",
    "\n",
    "#Se define la matriz de covarianza posterior (Ecuaciones de Tarantola y Valette, pp. 369, Ec. 7)\n",
    "Cmv=np.linalg.inv(np.matmul(np.matmul(GT,Cdinv),G)+Cminv)\n",
    "#Se define la transpuesta de la matriz de covarianza posterior\n",
    "CmvT=np.transpose(Cmv)\n",
    "#Se define la inversa de la matriz de covarianza posterior\n",
    "Cmvinv=np.matmul(np.matmul(GT,Cdinv),G)+Cminv\n",
    "#Se define la expectativa (Ecuaciones de Tarantola y Valette, pp. 369, Ec. 6)\n",
    "mv=np.matmul(np.linalg.inv(np.matmul(np.matmul(GT,Cdinv),G)+Cminv), np.matmul(np.matmul(GT,Cdinv),d)+np.matmul(Cminv,m0))\n",
    "\n",
    "#------------------------Integral de exp(-S(m))------------------------\n",
    "\n",
    "#Se hace el cálculo de la integral (Para la exprensión en función de la expectativa y la matriz de covarianza posterior)\n",
    "I=mvnun(a,b,mv,Cmv)\n",
    "#Se obtiene el factor de normalización de la distribución normal\n",
    "Inorm=1/((np.linalg.det(Cmv))*(2*np.pi)**(Nm))**(0.5)\n",
    "#Se define el término que corresponde a la multiplicación de la matriz G con el vector m0\n",
    "Gm0=np.matmul(G,m0)\n",
    "#Se define el factor K0 para el calculo de las marginales (pag. 369, segundo parrafo, primer renglón)\n",
    "K0=np.matmul(np.matmul(np.transpose(Gm0-d),np.linalg.inv(np.matmul(np.matmul(G,Cm),GT)+Cd)),(Gm0-d))\n",
    "#Se define el factor de normalización kb (definido bajo la ecuación 5, pag. 368) (La exponencial de -Ko/2 viene de calcular la integral usando la forma de obtener S(m) mostrada en el apendice B1)\n",
    "kb=(Inorm)/(I[0]*np.exp(-K0/2))\n",
    "#Se define un parámetro Kb para el cálculo de las marginales para los parámetros m1 y m2 (definido bajo la ecuación 9, pag. 369)\n",
    "Kb=kb*np.exp(-K0/2)\n",
    "\n",
    "#Se toma el tiempo final para medir el tiempo de ejecución de la estrategia semianalítica (primera parte)\n",
    "end_sa1=time.perf_counter()\n",
    "#Se calcula el tiempo de ejecución de la estrategia semianalítica (primera parte) \n",
    "t_sa1=end_sa1-start_sa1"
   ]
  },
  {
   "cell_type": "code",
   "execution_count": null,
   "id": "1dec91b4",
   "metadata": {},
   "outputs": [],
   "source": []
  },
  {
   "cell_type": "code",
   "execution_count": 12,
   "id": "f56fc6c1",
   "metadata": {},
   "outputs": [],
   "source": [
    "#--------------Cálculo de la PDF posterior conjunta--------------\n",
    "\n",
    "#Se define un arreglo para la posterior\n",
    "sigmMb=np.zeros([len(m1),len(m2)])\n",
    "\n",
    "#Se toma un tiempo de inicio para medir el tiempo de ejecución de la estrategia semianalítica (segunda parte, PDF posterior conjunta)\n",
    "start_sa2=time.perf_counter()\n",
    "\n",
    "for i in range(0,len(m1)):\n",
    "    for j in range (0,len(m2)):\n",
    "        #Cálculo de la posterior (ecuación 9, pag. 369) \n",
    "        sigmMb[j,i]=Kb*np.exp(-0.5*np.matmul(np.matmul(np.transpose(np.array([[m1[i]],[m2[j]]])-mv),Cmvinv),(np.array([[m1[i]],[m2[j]]])-mv)))\n",
    "        \n",
    "#Se toma el tiempo final para medir el tiempo de ejecución de la estrategia semianalítica (segunda parte)\n",
    "end_sa2=time.perf_counter()\n",
    "#Se calcula el tiempo de ejecución de la estrategia semianalítica (segunda parte)\n",
    "t_sa2=end_sa2-start_sa2\n",
    "        "
   ]
  },
  {
   "cell_type": "code",
   "execution_count": 13,
   "id": "93a95c37",
   "metadata": {},
   "outputs": [],
   "source": [
    "#--------------Marginales (figuras g y h)--------------\n",
    "\n",
    "#Se define un arreglo para la marginal del parámetro 1\n",
    "sigmMb1=np.zeros([1,len(m1)])\n",
    "#Se define un arreglo para la marginal del parámetro 2\n",
    "sigmMb2=np.zeros([1,len(m2)])\n",
    "\n",
    "#Se toma un tiempo de inicio para medir el tiempo de ejecución de la estrategia semianalítica (tercera parte, PDFs posteriores marginales)\n",
    "start_sa3=time.perf_counter()\n",
    "\n",
    "#Se define el parámetro \"A\" para el cálculo de la marginal de m1 (pagina 369, tercera ecuación bajo la ecuación 10)\n",
    "#A1=Cmv[1,1]-CmvT[0,1]*Cmvinv[0,0]*Cmv[0,1]\n",
    "A1=Cmv[1,1]-CmvT[0,1]*(1/Cmv[0,0])*Cmv[0,1]\n",
    "#Se define el parámetro \"A\" para el cálculo de la marginal de m2 (desarrollo realizado en la bitácora y definido como \"B\")\n",
    "A2=Cmv[0,0]-Cmv[0,1]*(1/Cmv[1,1])*CmvT[0,1]\n",
    "\n",
    "for i in range(0,len(m1)):\n",
    "    #Se obtiene el valor de la media para la marginal m1 (pagina 369, cuarta ecuación bajo la ecuación 10) \n",
    "    bm1=mv[1][0]+(CmvT[0,1]*(1/Cmv[0,0])*(m1[i]-mv[0][0]))\n",
    "    #Calculo del factor de normalización para la integral de la distribución normal para m1\n",
    "    Inormsig1=1/(A1*2*np.pi)**(0.5)\n",
    "    #Se obtiene el valor de la integral para la marginal de m1 \n",
    "    Isig1=mvnun(a1,b1,bm1,A1)\n",
    "    #Se obtiene la marginal para el parámetro 1 (ecuación 11, pag 369)\n",
    "    sigmMb1[0][i]=Kb[0][0]*np.exp(-0.5*np.transpose(m1[i]-mv[0][0])*(1/Cmv[0,0])*(m1[i]-mv[0][0]))*(Isig1[0]/Inormsig1)\n",
    "    \n",
    "    #Se obtiene el valor de la media para la marginal m2 (desarrollo realizado en la bitácora)\n",
    "    bm2=mv[0][0]+(Cmv[0,1]*(1/Cmv[1,1])*(m2[i]-mv[1][0]))\n",
    "    #Calculo del factor de normalización para la integral de la distribución normal para m2\n",
    "    Inormsig2=1/(A2*2*np.pi)**(0.5)\n",
    "    #Se obtiene el valor de la integral para la marginal de m2 \n",
    "    Isig2=mvnun(a2,b2,bm2,A2)   \n",
    "    #Se obtiene la marginal para el parámetro 2\n",
    "    sigmMb2[0][i]=Kb[0][0]*np.exp(-0.5*np.transpose(m2[i]-mv[1][0])*(1/Cmv[1,1])*(m2[i]-mv[1][0]))*(Isig2[0]/Inormsig2)\n",
    "        \n",
    "\n",
    "        \n",
    "#Se toma el tiempo final para medir el tiempo de ejecución de la estrategia semianalítica (tercera parte)\n",
    "end_sa3=time.perf_counter()\n",
    "#Se calcula el tiempo de ejecución de la estrategia semianalítica (tercera parte)\n",
    "t_sa3=end_sa3-start_sa3"
   ]
  },
  {
   "cell_type": "code",
   "execution_count": 14,
   "id": "d20ecce7",
   "metadata": {},
   "outputs": [
    {
     "name": "stdout",
     "output_type": "stream",
     "text": [
      "Tiempo de ejecución estrategia semianalítica 1: 0.4482092869993721\n",
      "Tiempo de ejecución estrategia semianalítica 2: 5.360504137999669\n",
      "Tiempo de ejecución estrategia semianalítica 3: 0.0256269040000916\n",
      "Tiempo de ejecución estrategia semianalítica: 5.834340328999133\n"
     ]
    }
   ],
   "source": [
    "print(\"Tiempo de ejecución estrategia semianalítica 1:\",t_sa1)\n",
    "print(\"Tiempo de ejecución estrategia semianalítica 2:\",t_sa2)\n",
    "print(\"Tiempo de ejecución estrategia semianalítica 3:\",t_sa3)\n",
    "print(\"Tiempo de ejecución estrategia semianalítica:\",t_sa1+t_sa2+t_sa3)"
   ]
  },
  {
   "cell_type": "code",
   "execution_count": 15,
   "id": "000a659f",
   "metadata": {},
   "outputs": [
    {
     "name": "stdout",
     "output_type": "stream",
     "text": [
      "1.0052316098864498\n"
     ]
    }
   ],
   "source": [
    "#Se comprueba que la PDF posterior sea una distribución de probabilidad, integrando y buscando obtener un volumen cercano a 1\n",
    "\n",
    "#Se define un delta de área\n",
    "dm=(m1[1]-m1[0])**(2)\n",
    "#Se define una variable auxiliar para sumar el volumen de cada paralelepipedo\n",
    "aux=0\n",
    "#Se define un ciclo para recorrer los paralelepipedos de la PDF posterior\n",
    "for i in range(0,len(m1)-1):\n",
    "    for j in range (0,len(m2)-1):\n",
    "        aux=aux+(dm*sigmMb[j,i])\n",
    "\n",
    "#Se muestra el resultado de la integral        \n",
    "print(aux)\n"
   ]
  },
  {
   "cell_type": "code",
   "execution_count": 16,
   "id": "6ddd4bf1",
   "metadata": {},
   "outputs": [
    {
     "data": {
      "image/png": "[encoded data removed]",
      "text/plain": [
       "<Figure size 432x288 with 2 Axes>"
      ]
     },
     "metadata": {
      "needs_background": "light"
     },
     "output_type": "display_data"
    }
   ],
   "source": [
    "#--------------Gráfica de la PDF posterior conjunta--------------\n",
    "\n",
    "c=plt.contourf(M1,M2,sigmMb)\n",
    "plt.clabel(c,fontsize=10,colors='red',inline=True)\n",
    "plt.contourf(M1,M2,sigmMb)\n",
    "plt.xlabel(\"m1\")\n",
    "plt.ylabel(\"m2\")\n",
    "plt.title(\"PDF posterior, alpha=\"+str(alpha))\n",
    "plt.colorbar()\n",
    "plt.show()"
   ]
  },
  {
   "cell_type": "code",
   "execution_count": 17,
   "id": "6bc2c04c",
   "metadata": {},
   "outputs": [
    {
     "name": "stdout",
     "output_type": "stream",
     "text": [
      "[1.00000408]\n",
      "[0.99999897]\n"
     ]
    }
   ],
   "source": [
    "#Se comprueba que las PDF marginales sean distribuciones de probabilidad, integrando y buscando obtener un volumen cercano a 1\n",
    "\n",
    "#Se muestra la integral de la marginal para el parámetro m1\n",
    "print(np.trapz(sigmMb1,x=m1,dx=(m1[1]-m1[0])))\n",
    "#Se muestra la integral de la marginal para el parámetro m2\n",
    "print(np.trapz(sigmMb2,x=m2,dx=(m2[1]-m2[0])))"
   ]
  },
  {
   "cell_type": "code",
   "execution_count": 18,
   "id": "2df11d8e",
   "metadata": {},
   "outputs": [
    {
     "data": {
      "image/png": "[encoded data removed]",
      "text/plain": [
       "<Figure size 432x288 with 1 Axes>"
      ]
     },
     "metadata": {
      "needs_background": "light"
     },
     "output_type": "display_data"
    },
    {
     "data": {
      "image/png": "[encoded data removed]",
      "text/plain": [
       "<Figure size 432x288 with 1 Axes>"
      ]
     },
     "metadata": {
      "needs_background": "light"
     },
     "output_type": "display_data"
    }
   ],
   "source": [
    "#--------------Gráficas de las Marginales--------------\n",
    "\n",
    "plt.plot(m1,sigmMb1[0])\n",
    "plt.xlim(0,1)\n",
    "plt.ylim(0,4)\n",
    "plt.xlabel(\"m1\")\n",
    "plt.ylabel(\"pdf\")\n",
    "plt.title(\"PDF marginal parámetro 1\")\n",
    "plt.show()\n",
    "\n",
    "plt.plot(m2,sigmMb2[0])\n",
    "plt.xlim(0,1)\n",
    "plt.ylim(0,1.8)\n",
    "plt.xlabel(\"m2\")\n",
    "plt.ylabel(\"pdf\")\n",
    "plt.title(\"PDF marginal parámetro 2\")\n",
    "plt.show()"
   ]
  },
  {
   "cell_type": "code",
   "execution_count": null,
   "id": "e878517b",
   "metadata": {},
   "outputs": [],
   "source": []
  },
  {
   "cell_type": "code",
   "execution_count": 19,
   "id": "b0472276",
   "metadata": {},
   "outputs": [],
   "source": [
    "#------------------------------------Resolucion usando MCMC------------------------------------"
   ]
  },
  {
   "cell_type": "code",
   "execution_count": 20,
   "id": "5262a186",
   "metadata": {},
   "outputs": [],
   "source": [
    "np.random.seed(seed=233423)\n",
    "#Se define una propuesta inicial [parámetro 1, parámetro 2]\n",
    "p0=[0.5,0.5]\n",
    "#La propuesta se convierte de una lista a un objeto numpy array\n",
    "p0=np.array(p0)\n",
    "#Se define un número de repeticiondes del MCMC\n",
    "Nc=5*(10**5)\n",
    "#Se define un arreglo para los datos generados con el muestreo\n",
    "MCMC=np.zeros([Nc, len(p0)]) \n",
    "#Se define un arreglo para las muestras de la posterior\n",
    "ln_probs = np.zeros(Nc) \n",
    "\n",
    "#Se asigna la primer propuesta el primer elemento de la cadena \n",
    "MCMC[0]=p0  \n",
    "\n",
    "#Se toma un tiempo de inicio para medir el tiempo de ejecución con el método MCMC \n",
    "start_MCMC=time.perf_counter()\n",
    "#Factor de normalización para la verosimilitud\n",
    "Kd=1/((np.linalg.det(Cd))*(2*np.pi)**(Nm))**(0.5)\n",
    "#Factor de normalización para la apriori\n",
    "Km=1/((np.linalg.det(Cm))*(2*np.pi)**(Nm))**(0.5)\n",
    "\n",
    "#Se define la primer muestra de la posterior a partir de la primer propuesta para los parámetros\n",
    "ln_probs[0]=posterior(p0[0],p0[1],G,d,m0,Cdinv,Cminv,Kd,Km)\n",
    "    \n",
    "#Cíclo que realiza el muestreo con MCMC\n",
    "for i in range(1,Nc):\n",
    "    #Se calculan las perturbaciones para los parámetros extraidas de distribuciones normales truncadas a manera de obtener únicamente muestras dentro del espacio paramétrico.    \n",
    "    pertm1=truncnorm.rvs(-(MCMC[i-1,0]-a1),b1-MCMC[i-1,0],loc=0, scale=1) \n",
    "    pertm2=truncnorm.rvs(-(MCMC[i-1,1]-a2),b2-MCMC[i-1,1],loc=0, scale=1) \n",
    "    #Las perturbaciones para ambos parámetros se introducen en un arreglo numpy\n",
    "    pert=np.array([pertm1,pertm2])\n",
    "    #Se perturban los parámetros\n",
    "    propuesta=MCMC[i-1]+pert\n",
    "    #Se obtiene la distribución posterior de los parámetros perturbados\n",
    "    Newlnprob=posterior(propuesta[0],propuesta[1],G,d,m0,Cdinv,Cminv,Kd,Km)\n",
    "    #Se obtiene la relación entre los parámetros perturbados y los de la iteración anterior\n",
    "    Ratiolnprob=Newlnprob-ln_probs[i-1]\n",
    "    #Criterio de metrópolis\n",
    "    if (Ratiolnprob > 0) or (Ratiolnprob > np.log(np.random.uniform())):\n",
    "        MCMC[i] = propuesta\n",
    "        ln_probs[i] = Newlnprob\n",
    "    else:\n",
    "        MCMC[i]=MCMC[i-1]\n",
    "        ln_probs[i]=ln_probs[i-1]\n",
    "\n",
    "#Se toma el tiempo final para medir el tiempo de ejecución con el método MCMC \n",
    "end_MCMC=time.perf_counter()\n",
    "#Se calcula el tiempo de ejecución con el método MCMC\n",
    "t_MCMC=end_MCMC-start_MCMC"
   ]
  },
  {
   "cell_type": "code",
   "execution_count": 21,
   "id": "50daf783",
   "metadata": {},
   "outputs": [
    {
     "name": "stdout",
     "output_type": "stream",
     "text": [
      "Tiempo de ejecución MCMC: 309.2870370689998\n"
     ]
    }
   ],
   "source": [
    "#Se muestra el tiempo de ejecución empleando el método MCMC\n",
    "print(\"Tiempo de ejecución MCMC:\",t_MCMC)"
   ]
  },
  {
   "cell_type": "code",
   "execution_count": 22,
   "id": "6923ae97",
   "metadata": {
    "scrolled": true
   },
   "outputs": [
    {
     "data": {
      "image/png": "[encoded data removed]",
      "text/plain": [
       "<Figure size 432x288 with 1 Axes>"
      ]
     },
     "metadata": {
      "needs_background": "light"
     },
     "output_type": "display_data"
    },
    {
     "data": {
      "image/png": "[encoded data removed]",
      "text/plain": [
       "<Figure size 432x288 with 1 Axes>"
      ]
     },
     "metadata": {
      "needs_background": "light"
     },
     "output_type": "display_data"
    },
    {
     "data": {
      "image/png": "[encoded data removed]",
      "text/plain": [
       "<Figure size 432x288 with 1 Axes>"
      ]
     },
     "metadata": {
      "needs_background": "light"
     },
     "output_type": "display_data"
    }
   ],
   "source": [
    "plt.plot(MCMC[:,0],label=\"Muestras de la cadena\")\n",
    "plt.show()\n",
    "\n",
    "\n",
    "MCMC1=MCMC[1000:]\n",
    "\n",
    "plt.plot(MCMC1[:,0],label=\"Muestras de la cadena\")\n",
    "plt.show()\n",
    "\n",
    "plt.hist(MCMC1[:,0],bins=100)\n",
    "plt.show()"
   ]
  },
  {
   "cell_type": "code",
   "execution_count": 23,
   "id": "b27b3310",
   "metadata": {
    "scrolled": true
   },
   "outputs": [
    {
     "data": {
      "image/png": "[encoded data removed]",
      "text/plain": [
       "<Figure size 432x288 with 1 Axes>"
      ]
     },
     "metadata": {
      "needs_background": "light"
     },
     "output_type": "display_data"
    },
    {
     "data": {
      "image/png": "[encoded data removed]",
      "text/plain": [
       "<Figure size 432x288 with 1 Axes>"
      ]
     },
     "metadata": {
      "needs_background": "light"
     },
     "output_type": "display_data"
    },
    {
     "data": {
      "image/png": "[encoded data removed]",
      "text/plain": [
       "<Figure size 432x288 with 1 Axes>"
      ]
     },
     "metadata": {
      "needs_background": "light"
     },
     "output_type": "display_data"
    }
   ],
   "source": [
    "plt.plot(MCMC[:,1],label=\"Muestras de la cadena\")\n",
    "plt.show()\n",
    "\n",
    "\n",
    "MCMC1=MCMC[1000:]\n",
    "\n",
    "plt.plot(MCMC1[:,1],label=\"Muestras de la cadena\")\n",
    "plt.show()\n",
    "\n",
    "\n",
    "plt.hist(MCMC1[:,1],bins=100)\n",
    "plt.show()"
   ]
  },
  {
   "cell_type": "code",
   "execution_count": null,
   "id": "28de5089",
   "metadata": {},
   "outputs": [],
   "source": []
  },
  {
   "cell_type": "code",
   "execution_count": 24,
   "id": "bab63e2c",
   "metadata": {},
   "outputs": [],
   "source": [
    "#Se define una discretización del rango de valores para el primer parámetro\n",
    "#m1d=np.arange(np.min(MCMC1[:,0]),np.max(MCMC1[:,0]),0.05)\n",
    "m1d=np.arange(a1,b1,0.05)\n",
    "#Se define una discretización del rango de valores para el segundo parámetro\n",
    "#m2d=np.arange(np.min(MCMC1[:,1]),np.max(MCMC1[:,1]),0.05)\n",
    "m2d=np.arange(a2,b2,0.05)\n",
    "M1d,M2d=np.meshgrid(m1d, m2d)\n"
   ]
  },
  {
   "cell_type": "code",
   "execution_count": null,
   "id": "5f5e7ec7",
   "metadata": {},
   "outputs": [],
   "source": []
  },
  {
   "cell_type": "code",
   "execution_count": 25,
   "id": "eb8a1317",
   "metadata": {},
   "outputs": [],
   "source": [
    "SigmaMCMC=np.zeros((len(m1d),len(m2d)))\n",
    "\n",
    "start_malla=time.perf_counter()\n",
    "\n",
    "for i in range(0,len(m1d)-1):\n",
    "    for j in range(0,len(m2d)-1):\n",
    "        for k in range(0,len(MCMC[:,1])):\n",
    "            if (MCMC[k,0]>=m1d[i] and MCMC[k,0]<m1d[i+1] and MCMC[k,1]>=m2d[j] and MCMC[k,1]<m2d[j+1]):\n",
    "                SigmaMCMC[i,j]=SigmaMCMC[i,j]+1\n",
    "                np.delete(MCMC, k, axis=0)\n",
    "                \n",
    "end_malla=time.perf_counter()\n",
    "\n",
    "t_malla=end_malla-start_malla"
   ]
  },
  {
   "cell_type": "code",
   "execution_count": 26,
   "id": "95f5de17",
   "metadata": {},
   "outputs": [
    {
     "name": "stdout",
     "output_type": "stream",
     "text": [
      "Tiempo de ejecución para la malla: 933.1135350639997\n"
     ]
    }
   ],
   "source": [
    "print(\"Tiempo de ejecución para la malla:\",t_malla)"
   ]
  },
  {
   "cell_type": "code",
   "execution_count": 27,
   "id": "4f4f6a0e",
   "metadata": {},
   "outputs": [
    {
     "name": "stdout",
     "output_type": "stream",
     "text": [
      "0.9999999999999999\n"
     ]
    }
   ],
   "source": [
    "dA=((m1d[1]-m1d[0])*(m2d[1]-m2d[0]))\n",
    "dl1=m1d[1]-m1d[0]\n",
    "dl2=m2d[1]-m2d[0]\n",
    "SigmaMCMC=SigmaMCMC*dA\n",
    "norm_factor=np.sum(SigmaMCMC)\n",
    "SigmaMCMC=SigmaMCMC/norm_factor/dA\n",
    "print(np.sum(SigmaMCMC)*dA)"
   ]
  },
  {
   "cell_type": "code",
   "execution_count": 28,
   "id": "a670a59f",
   "metadata": {},
   "outputs": [
    {
     "data": {
      "image/png": "[encoded data removed]",
      "text/plain": [
       "<Figure size 936x360 with 4 Axes>"
      ]
     },
     "metadata": {
      "needs_background": "light"
     },
     "output_type": "display_data"
    }
   ],
   "source": [
    "m1_bins=np.linspace(np.min(MCMC[:,0]), np.max(MCMC[:,0]), 50) \n",
    "m2_bins=np.linspace(np.min(MCMC[:,1]), np.max(MCMC[:,1]), 50) \n",
    "\n",
    "fig, axs = plt.subplots(1, 2,figsize=(13, 5))\n",
    "f1=axs[0].contourf(M1,M2,sigmMb)\n",
    "axs[0].set_ylabel(\"m2\",fontsize=12,fontweight=600)\n",
    "axs[0].set_xlabel(\"m1\",fontsize=12,fontweight=600)\n",
    "axs[0].set_title(\"PDF posterior, α=\"+str(alpha),fontsize=14,fontweight=600)\n",
    "fig.colorbar(f1, ax=axs[0])\n",
    "\n",
    "f2=axs[1].hist2d(MCMC[:,0], MCMC[:,1],bins =[m1_bins, m2_bins]) \n",
    "axs[1].set_ylabel(\"m2\",fontsize=12,fontweight=600)\n",
    "axs[1].set_xlabel(\"m1\",fontsize=12,fontweight=600)\n",
    "axs[1].set_title(\"PDF posterior MCMC (sin normalizar)\", fontsize=14, fontweight=550)\n",
    "\n",
    "fig.colorbar(f2[3], ax=axs[1])\n",
    "plt.tight_layout()\n",
    "\n",
    "#plt.savefig(\"PDF_Conj_sintetico.png\",dpi=400,bbox_inches='tight')\n",
    "\n",
    "plt.show()\n"
   ]
  },
  {
   "cell_type": "code",
   "execution_count": 29,
   "id": "6fcfe752",
   "metadata": {},
   "outputs": [
    {
     "name": "stdout",
     "output_type": "stream",
     "text": [
      "0.9999999999999999\n",
      "0.9999999999999999\n"
     ]
    },
    {
     "data": {
      "image/png": "[encoded data removed]",
      "text/plain": [
       "<Figure size 936x360 with 2 Axes>"
      ]
     },
     "metadata": {
      "needs_background": "light"
     },
     "output_type": "display_data"
    }
   ],
   "source": [
    "SigMarg1=np.sum((SigmaMCMC)*dl2,axis=1)\n",
    "print(np.sum(SigMarg1*dl1))\n",
    "\n",
    "SigMarg2=np.sum((SigmaMCMC)*dl1,axis=0)\n",
    "print(np.sum(SigMarg2*dl2))\n",
    "\n",
    "fig, axs = plt.subplots(1, 2,figsize=(13, 5))\n",
    "axs[0].bar(m1d,SigMarg1,width=0.05,edgecolor=\"k\",color=\"c\",linewidth=1.2,label=\"MCMC\")\n",
    "axs[0].plot(m1,sigmMb1[0],color=\"r\",label=\"Aprox. α=8\",linewidth=3)\n",
    "axs[0].set_xlim([-0.025,1])\n",
    "axs[0].set_ylim([0,4])\n",
    "axs[0].set_ylabel(\"PDF\",fontsize=12,fontweight=600)\n",
    "axs[0].set_xlabel(\"m1\",fontsize=12,fontweight=600)\n",
    "axs[0].legend(prop={'size': 12})\n",
    "\n",
    "axs[1].bar(m2d,SigMarg2,width=0.05,edgecolor=\"k\",color=\"c\",linewidth=1.2,label=\"MCMC\")\n",
    "axs[1].plot(m2,sigmMb2[0],color=\"r\",label=\"Aprox. α=8\",linewidth=3)\n",
    "axs[1].set_xlim([-0.025,1])\n",
    "axs[1].set_ylim([0,1.8])\n",
    "axs[1].set_ylabel(\"PDF\",fontsize=12,fontweight=600)\n",
    "axs[1].set_xlabel(\"m2\",fontsize=12,fontweight=600)\n",
    "axs[1].legend(prop={'size': 12})\n",
    "\n",
    "plt.tight_layout()\n",
    "#plt.savefig(\"PDF_marg_sintetico.png\",dpi=400,bbox_inches='tight')\n",
    "plt.show()\n"
   ]
  },
  {
   "cell_type": "code",
   "execution_count": 30,
   "id": "75a87b15",
   "metadata": {},
   "outputs": [
    {
     "name": "stdout",
     "output_type": "stream",
     "text": [
      "0.229\n",
      "0.2\n"
     ]
    }
   ],
   "source": [
    "#\n",
    "MediaPDF=np.trapz(sigmMb1[0]*m1,x=m1,dx=(m1[1]-m1[0]))\n",
    "#\n",
    "VarPDF=np.trapz(sigmMb1[0]*(m1-MediaPDF)**2,x=m1,dx=(m1[1]-m1[0]))\n",
    "print(round(MediaPDF,3))\n",
    "print(round(VarPDF**(0.5),3))"
   ]
  },
  {
   "cell_type": "code",
   "execution_count": 31,
   "id": "c2013d3a",
   "metadata": {},
   "outputs": [
    {
     "name": "stdout",
     "output_type": "stream",
     "text": [
      "0.328\n",
      "0.219\n"
     ]
    }
   ],
   "source": [
    "#\n",
    "MediaPDF1=np.trapz(sigmMb2[0]*m2,x=m2,dx=(m2[1]-m2[0]))\n",
    "#\n",
    "VarPDF1=np.trapz(sigmMb2[0]*(m2-MediaPDF1)**2,x=m2,dx=(m2[1]-m2[0]))\n",
    "print(round(MediaPDF1,3))\n",
    "print(round(VarPDF1**(0.5),3))"
   ]
  },
  {
   "cell_type": "code",
   "execution_count": 32,
   "id": "af207f64",
   "metadata": {},
   "outputs": [
    {
     "name": "stdout",
     "output_type": "stream",
     "text": [
      "        m1      m2\n",
      "Media 0.229 / 0.328\n",
      "Std   0.2 / 0.219\n"
     ]
    }
   ],
   "source": [
    "#Estadísticas Nocquet\n",
    "\n",
    "print(\"        m1\",\"     m2\")\n",
    "print(\"Media\",round(MediaPDF,3),\"/\",round(MediaPDF1,3))\n",
    "#Para m2\n",
    "print(\"Std  \",round(VarPDF**(0.5),3),\"/\",round(VarPDF1**(0.5),3))"
   ]
  },
  {
   "cell_type": "code",
   "execution_count": 33,
   "id": "8b021d10",
   "metadata": {},
   "outputs": [
    {
     "name": "stdout",
     "output_type": "stream",
     "text": [
      "0.208\n",
      "0.187\n"
     ]
    }
   ],
   "source": [
    "MediaPDF_MCMC=np.trapz(SigMarg1*m1d,x=m1d,dx=(m1d[1]-m1d[0]))\n",
    "VarPDF_MCMC=np.trapz(SigMarg1*(m1d-MediaPDF_MCMC)**2,x=m1d,dx=(m1d[1]-m1d[0]))\n",
    "print(round(MediaPDF_MCMC,3))\n",
    "print(round(VarPDF_MCMC**(0.5),3))"
   ]
  },
  {
   "cell_type": "code",
   "execution_count": 34,
   "id": "2b4332f1",
   "metadata": {},
   "outputs": [
    {
     "name": "stdout",
     "output_type": "stream",
     "text": [
      "0.305\n",
      "0.205\n"
     ]
    }
   ],
   "source": [
    "MediaPDF_MCMC2=np.trapz(SigMarg2*m2d,x=m2d,dx=(m2d[1]-m2d[0]))\n",
    "VarPDF_MCMC2=np.trapz(SigMarg2*(m2d-MediaPDF_MCMC2)**2,x=m2d,dx=(m2d[1]-m2d[0]))\n",
    "print(round(MediaPDF_MCMC2,3))\n",
    "print(round(VarPDF_MCMC2**(0.5),3))"
   ]
  },
  {
   "cell_type": "code",
   "execution_count": null,
   "id": "b88307bb",
   "metadata": {},
   "outputs": [],
   "source": []
  },
  {
   "cell_type": "code",
   "execution_count": 42,
   "id": "f29fc79c",
   "metadata": {},
   "outputs": [],
   "source": [
    "np.savetxt('MCMC_p2.txt', MCMC)\n",
    "np.savetxt('Sigma_MCMC_p2.txt', SigmaMCMC)"
   ]
  },
  {
   "cell_type": "code",
   "execution_count": null,
   "id": "0aabfb4d",
   "metadata": {},
   "outputs": [],
   "source": []
  },
  {
   "cell_type": "code",
   "execution_count": 35,
   "id": "aacae4d3",
   "metadata": {},
   "outputs": [
    {
     "data": {
      "text/plain": [
       "0.23323502832557985"
      ]
     },
     "execution_count": 35,
     "metadata": {},
     "output_type": "execute_result"
    }
   ],
   "source": [
    "\n",
    "TNmean(a1,b1,mv[0],(Cmv[0,0])**(0.5))"
   ]
  },
  {
   "cell_type": "code",
   "execution_count": null,
   "id": "cdec6f01",
   "metadata": {},
   "outputs": [],
   "source": []
  },
  {
   "cell_type": "code",
   "execution_count": null,
   "id": "47b1a971",
   "metadata": {},
   "outputs": [],
   "source": []
  },
  {
   "cell_type": "code",
   "execution_count": 24,
   "id": "2d8f1027",
   "metadata": {},
   "outputs": [],
   "source": [
    "def reorder(A,ind):\n",
    "    n1,n2=np.shape(A)\n",
    "    aux1=np.zeros((len(ind),n2))\n",
    "    aux2=np.copy(A)\n",
    "    for i in range (0,len(ind)):\n",
    "        aux1[i]=np.copy(A[ind[i]-1])\n",
    "        aux2=np.delete(A,ind-1,axis=0)\n",
    "    A1=np.concatenate((aux1, aux2), axis=0)\n",
    "    return A1"
   ]
  },
  {
   "cell_type": "code",
   "execution_count": 26,
   "id": "fd833726",
   "metadata": {},
   "outputs": [],
   "source": [
    "def product(*args, repeat=1):\n",
    "    # product('ABCD', 'xy') --> Ax Ay Bx By Cx Cy Dx Dy\n",
    "    # product(range(2), repeat=3) --> 000 001 010 011 100 101 110 111\n",
    "    pools = [tuple(pool) for pool in args] * repeat\n",
    "    result = [[]]\n",
    "    for pool in pools:\n",
    "        result = [x+[y] for x in result for y in pool]    \n",
    "    for prod in result:\n",
    "        yield tuple(prod)"
   ]
  },
  {
   "cell_type": "code",
   "execution_count": null,
   "id": "1192f085",
   "metadata": {},
   "outputs": [],
   "source": []
  },
  {
   "cell_type": "code",
   "execution_count": 40,
   "id": "b9467ea2",
   "metadata": {},
   "outputs": [],
   "source": [
    "#Funcion que calcula las marginales de una distribución de probabilidad (caso general)\n",
    "def PDFmarginal(x,m,Cmv1,mv1,Kb,Ind1):  \n",
    "    \n",
    "    #Se obtiene una lista con todas las posibles combinaciones del espacio de parámetros\n",
    "    Ind=np.array(Ind1)\n",
    "    #Se acomodan las filas y la columnas de la matriz de covarianza posterior de los parámetros en función de la marginal requerida\n",
    "    Cmv0=np.transpose(reorder(np.transpose(Cmv1),Ind))\n",
    "    Cmv=reorder(Cmv0,Ind)\n",
    "    #Se acomodan los elementos del vector expectativa en función de la marginal requerida\n",
    "    mv=reorder(mv1,Ind)\n",
    "    \n",
    "    NmM=len(Ind)\n",
    "    Nm=np.shape(m)[1]\n",
    "    mn=m[0:len(m),0]\n",
    "    \n",
    "    #Se definen las submatrices necesarias para las operaciones del calculo de las marginales\n",
    "    Cmvinv11=np.linalg.inv(np.array([Cmv[0:NmM,0:NmM]]).reshape(NmM,NmM))\n",
    "    print(Cmvinv11)\n",
    "    Cmv21=Cmv[NmM:Nm,0:NmM].reshape(Nm-NmM,NmM)\n",
    "    CmvT21=np.transpose(Cmv21).reshape(NmM,Nm-NmM)\n",
    "    Cmv12=Cmv[0:NmM,NmM:Nm].reshape(NmM,Nm-NmM)\n",
    "    CmvT12=np.transpose(Cmv12).reshape(Nm-NmM,NmM)\n",
    "    Cmv22=Cmv[NmM:Nm,NmM:Nm]\n",
    "    \n",
    "    mv1=mv[0:NmM,0].reshape(NmM,1)\n",
    "    mv2=mv[NmM:len(mv),0].reshape(Nm-NmM,1)\n",
    "    m1=m[:,0:NmM]\n",
    "    \n",
    "    #Se obtiene una lista con todas las posibles combinaciones del espacio de parámetros\n",
    "    indexM=list(product(list(range(0,len(mn))), repeat=NmM))\n",
    "    \n",
    "    A=Cmv22-np.matmul(CmvT12,np.matmul(Cmvinv11,Cmv12))\n",
    "    #Se define un contador para recorrer las combinaciones posibles del espacio de parámetros\n",
    "    cont=0\n",
    "    #Se define un arreglo para almacenar los datos de la marginal\n",
    "    sigmMb1=np.zeros((1,len(x)))\n",
    "    \n",
    "    for i in range(0,len(x)):\n",
    "        b=mv2+np.matmul(CmvT12,np.matmul(Cmvinv11,x[i]-mv1))\n",
    "        Inormsig1=1/(np.linalg.det(A)*(2*np.pi)**(Nm-NmM))**(0.5)\n",
    "        Isig1=mvnun(m[0,NmM:Nm].reshape(Nm-NmM,1),m[len(mn)-1,NmM:Nm].reshape(Nm-NmM,1), b, A)\n",
    "        sigmMb1[0,i]=Kb[0][0]*np.exp(-0.5*np.matmul(np.transpose(x[i]-mv1),np.matmul(Cmvinv11,x[i]-mv1)))*(Isig1[0]/Inormsig1)\n",
    "        \n",
    "    \n",
    "    return(sigmMb1)"
   ]
  },
  {
   "cell_type": "code",
   "execution_count": 41,
   "id": "8536aa10",
   "metadata": {},
   "outputs": [
    {
     "name": "stdout",
     "output_type": "stream",
     "text": [
      "[[2.17957624]]\n",
      "[[9.35820304]]\n"
     ]
    }
   ],
   "source": [
    "m=np.zeros((len(m1),Nm))+m1.reshape(len(m1),1)\n",
    "xmar=np.linspace(0,1,500)\n",
    "R1=PDFmarginal(xmar,m,Cmv,mv,Kb,[1])\n",
    "R2=PDFmarginal(xmar,m,Cmv,mv,Kb,[0])\n",
    "#R1\n",
    "#plt.plot(R1[0])\n",
    "#plt.show()"
   ]
  },
  {
   "cell_type": "code",
   "execution_count": 28,
   "id": "db748734",
   "metadata": {},
   "outputs": [
    {
     "name": "stdout",
     "output_type": "stream",
     "text": [
      "0.229\n",
      "0.2\n"
     ]
    }
   ],
   "source": [
    "MediaPDF=np.trapz(R1[0]*xmar,x=xmar,dx=(xmar[1]-xmar[0]))\n",
    "VarPDF=np.trapz(R1[0]*(xmar-MediaPDF)**2,x=xmar,dx=(xmar[1]-xmar[0]))\n",
    "print(round(MediaPDF,3))\n",
    "print(round(VarPDF**(0.5),3))"
   ]
  },
  {
   "cell_type": "code",
   "execution_count": 29,
   "id": "f57b1f96",
   "metadata": {},
   "outputs": [
    {
     "name": "stdout",
     "output_type": "stream",
     "text": [
      "0.328\n",
      "0.219\n"
     ]
    }
   ],
   "source": [
    "MediaPDF1=np.trapz(R2[0]*xmar,x=xmar,dx=(xmar[1]-xmar[0]))\n",
    "VarPDF1=np.trapz(R2[0]*(xmar-MediaPDF1)**2,x=xmar,dx=(xmar[1]-xmar[0]))\n",
    "print(round(MediaPDF1,3))\n",
    "print(round(VarPDF1**(0.5),3))"
   ]
  },
  {
   "cell_type": "code",
   "execution_count": null,
   "id": "02a71e62",
   "metadata": {},
   "outputs": [],
   "source": []
  },
  {
   "cell_type": "code",
   "execution_count": 30,
   "id": "a37e4727",
   "metadata": {},
   "outputs": [
    {
     "data": {
      "image/png": "[encoded data removed]",
      "text/plain": [
       "<Figure size 432x288 with 1 Axes>"
      ]
     },
     "metadata": {
      "needs_background": "light"
     },
     "output_type": "display_data"
    }
   ],
   "source": [
    "plt.plot(R1[0])\n",
    "plt.plot(sigmMb1[0])\n",
    "plt.show()"
   ]
  },
  {
   "cell_type": "code",
   "execution_count": 31,
   "id": "9d533dc7",
   "metadata": {},
   "outputs": [
    {
     "data": {
      "image/png": "[encoded data removed]",
      "text/plain": [
       "<Figure size 432x288 with 1 Axes>"
      ]
     },
     "metadata": {
      "needs_background": "light"
     },
     "output_type": "display_data"
    }
   ],
   "source": [
    "plt.plot(R2[0])\n",
    "plt.plot(sigmMb2[0])\n",
    "plt.show()"
   ]
  },
  {
   "cell_type": "code",
   "execution_count": null,
   "id": "a6588878",
   "metadata": {},
   "outputs": [],
   "source": []
  },
  {
   "cell_type": "code",
   "execution_count": 46,
   "id": "ccc4e967",
   "metadata": {},
   "outputs": [
    {
     "data": {
      "text/plain": [
       "9.5425"
      ]
     },
     "execution_count": 46,
     "metadata": {},
     "output_type": "execute_result"
    }
   ],
   "source": [
    "Cmvinv[1,1]"
   ]
  },
  {
   "cell_type": "code",
   "execution_count": 37,
   "id": "9d399fb3",
   "metadata": {},
   "outputs": [
    {
     "ename": "LinAlgError",
     "evalue": "1-dimensional array given. Array must be at least two-dimensional",
     "output_type": "error",
     "traceback": [
      "\u001b[0;31m---------------------------------------------------------------------------\u001b[0m",
      "\u001b[0;31mLinAlgError\u001b[0m                               Traceback (most recent call last)",
      "\u001b[0;32m/tmp/ipykernel_11545/827508874.py\u001b[0m in \u001b[0;36m<module>\u001b[0;34m\u001b[0m\n\u001b[0;32m----> 1\u001b[0;31m \u001b[0mnp\u001b[0m\u001b[0;34m.\u001b[0m\u001b[0mlinalg\u001b[0m\u001b[0;34m.\u001b[0m\u001b[0minv\u001b[0m\u001b[0;34m(\u001b[0m\u001b[0;34m[\u001b[0m\u001b[0mCmv\u001b[0m\u001b[0;34m[\u001b[0m\u001b[0;36m0\u001b[0m\u001b[0;34m,\u001b[0m\u001b[0;36m0\u001b[0m\u001b[0;34m]\u001b[0m\u001b[0;34m]\u001b[0m\u001b[0;34m)\u001b[0m\u001b[0;34m\u001b[0m\u001b[0;34m\u001b[0m\u001b[0m\n\u001b[0m",
      "\u001b[0;32m<__array_function__ internals>\u001b[0m in \u001b[0;36minv\u001b[0;34m(*args, **kwargs)\u001b[0m\n",
      "\u001b[0;32m~/anaconda3/lib/python3.9/site-packages/numpy/linalg/linalg.py\u001b[0m in \u001b[0;36minv\u001b[0;34m(a)\u001b[0m\n\u001b[1;32m    537\u001b[0m     \"\"\"\n\u001b[1;32m    538\u001b[0m     \u001b[0ma\u001b[0m\u001b[0;34m,\u001b[0m \u001b[0mwrap\u001b[0m \u001b[0;34m=\u001b[0m \u001b[0m_makearray\u001b[0m\u001b[0;34m(\u001b[0m\u001b[0ma\u001b[0m\u001b[0;34m)\u001b[0m\u001b[0;34m\u001b[0m\u001b[0;34m\u001b[0m\u001b[0m\n\u001b[0;32m--> 539\u001b[0;31m     \u001b[0m_assert_stacked_2d\u001b[0m\u001b[0;34m(\u001b[0m\u001b[0ma\u001b[0m\u001b[0;34m)\u001b[0m\u001b[0;34m\u001b[0m\u001b[0;34m\u001b[0m\u001b[0m\n\u001b[0m\u001b[1;32m    540\u001b[0m     \u001b[0m_assert_stacked_square\u001b[0m\u001b[0;34m(\u001b[0m\u001b[0ma\u001b[0m\u001b[0;34m)\u001b[0m\u001b[0;34m\u001b[0m\u001b[0;34m\u001b[0m\u001b[0m\n\u001b[1;32m    541\u001b[0m     \u001b[0mt\u001b[0m\u001b[0;34m,\u001b[0m \u001b[0mresult_t\u001b[0m \u001b[0;34m=\u001b[0m \u001b[0m_commonType\u001b[0m\u001b[0;34m(\u001b[0m\u001b[0ma\u001b[0m\u001b[0;34m)\u001b[0m\u001b[0;34m\u001b[0m\u001b[0;34m\u001b[0m\u001b[0m\n",
      "\u001b[0;32m~/anaconda3/lib/python3.9/site-packages/numpy/linalg/linalg.py\u001b[0m in \u001b[0;36m_assert_stacked_2d\u001b[0;34m(*arrays)\u001b[0m\n\u001b[1;32m    194\u001b[0m     \u001b[0;32mfor\u001b[0m \u001b[0ma\u001b[0m \u001b[0;32min\u001b[0m \u001b[0marrays\u001b[0m\u001b[0;34m:\u001b[0m\u001b[0;34m\u001b[0m\u001b[0;34m\u001b[0m\u001b[0m\n\u001b[1;32m    195\u001b[0m         \u001b[0;32mif\u001b[0m \u001b[0ma\u001b[0m\u001b[0;34m.\u001b[0m\u001b[0mndim\u001b[0m \u001b[0;34m<\u001b[0m \u001b[0;36m2\u001b[0m\u001b[0;34m:\u001b[0m\u001b[0;34m\u001b[0m\u001b[0;34m\u001b[0m\u001b[0m\n\u001b[0;32m--> 196\u001b[0;31m             raise LinAlgError('%d-dimensional array given. Array must be '\n\u001b[0m\u001b[1;32m    197\u001b[0m                     'at least two-dimensional' % a.ndim)\n\u001b[1;32m    198\u001b[0m \u001b[0;34m\u001b[0m\u001b[0m\n",
      "\u001b[0;31mLinAlgError\u001b[0m: 1-dimensional array given. Array must be at least two-dimensional"
     ]
    }
   ],
   "source": [
    "np.linalg.inv([Cmv[0,0]])"
   ]
  },
  {
   "cell_type": "code",
   "execution_count": null,
   "id": "4b62b3bf",
   "metadata": {},
   "outputs": [],
   "source": []
  },
  {
   "cell_type": "code",
   "execution_count": 36,
   "id": "bb44b2a9",
   "metadata": {},
   "outputs": [
    {
     "data": {
      "text/plain": [
       "[0.45880478169060007]"
      ]
     },
     "execution_count": 36,
     "metadata": {},
     "output_type": "execute_result"
    }
   ],
   "source": [
    "[Cmv[0,0]]"
   ]
  },
  {
   "cell_type": "code",
   "execution_count": null,
   "id": "e1b6a6a7",
   "metadata": {},
   "outputs": [],
   "source": []
  },
  {
   "cell_type": "code",
   "execution_count": null,
   "id": "77542404",
   "metadata": {},
   "outputs": [],
   "source": []
  },
  {
   "cell_type": "code",
   "execution_count": null,
   "id": "726c99f7",
   "metadata": {},
   "outputs": [],
   "source": []
  },
  {
   "cell_type": "code",
   "execution_count": null,
   "id": "a6f8ed05",
   "metadata": {},
   "outputs": [],
   "source": []
  },
  {
   "cell_type": "code",
   "execution_count": null,
   "id": "c7fdaa4a",
   "metadata": {},
   "outputs": [],
   "source": []
  },
  {
   "cell_type": "code",
   "execution_count": null,
   "id": "da10ca8d",
   "metadata": {},
   "outputs": [],
   "source": []
  },
  {
   "cell_type": "code",
   "execution_count": null,
   "id": "8550e932",
   "metadata": {},
   "outputs": [],
   "source": []
  },
  {
   "cell_type": "code",
   "execution_count": null,
   "id": "e3cf216f",
   "metadata": {},
   "outputs": [],
   "source": []
  },
  {
   "cell_type": "code",
   "execution_count": null,
   "id": "992bed7d",
   "metadata": {},
   "outputs": [],
   "source": []
  },
  {
   "cell_type": "code",
   "execution_count": null,
   "id": "95f0ec1d",
   "metadata": {},
   "outputs": [],
   "source": []
  },
  {
   "cell_type": "code",
   "execution_count": null,
   "id": "c0c160ca",
   "metadata": {},
   "outputs": [],
   "source": []
  },
  {
   "cell_type": "code",
   "execution_count": null,
   "id": "eab99566",
   "metadata": {},
   "outputs": [],
   "source": []
  },
  {
   "cell_type": "code",
   "execution_count": null,
   "id": "6dade798",
   "metadata": {},
   "outputs": [],
   "source": []
  },
  {
   "cell_type": "code",
   "execution_count": null,
   "id": "3725ff27",
   "metadata": {},
   "outputs": [],
   "source": []
  },
  {
   "cell_type": "code",
   "execution_count": null,
   "id": "31ac28b1",
   "metadata": {},
   "outputs": [],
   "source": []
  },
  {
   "cell_type": "code",
   "execution_count": null,
   "id": "b7e88484",
   "metadata": {},
   "outputs": [],
   "source": []
  },
  {
   "cell_type": "code",
   "execution_count": null,
   "id": "70f872b2",
   "metadata": {},
   "outputs": [],
   "source": []
  },
  {
   "cell_type": "code",
   "execution_count": 24,
   "id": "1e800e57",
   "metadata": {},
   "outputs": [
    {
     "name": "stdout",
     "output_type": "stream",
     "text": [
      "[-9.9303908]\n"
     ]
    }
   ],
   "source": [
    "Kd=1/((np.linalg.det(Cd))*(2*np.pi)**(Nm))**(0.5)\n",
    "Km=1/((np.linalg.det(Cm))*(2*np.pi)**(Nm))**(0.5)\n",
    "print(likelihood(0.2,0.3,G,d,Cdinv,Kd))"
   ]
  },
  {
   "cell_type": "code",
   "execution_count": 26,
   "id": "6ed4f54b",
   "metadata": {},
   "outputs": [
    {
     "name": "stdout",
     "output_type": "stream",
     "text": [
      "[-4.61452829]\n"
     ]
    }
   ],
   "source": [
    "Km=1/((np.linalg.det(Cm))*(2*np.pi)**(Nm))**(0.5)\n",
    "print(apriori(0.2,0.3,m0,Cminv,Km))"
   ]
  },
  {
   "cell_type": "code",
   "execution_count": null,
   "id": "f0f0f057",
   "metadata": {},
   "outputs": [],
   "source": []
  },
  {
   "cell_type": "code",
   "execution_count": 30,
   "id": "ffd99fb6",
   "metadata": {},
   "outputs": [
    {
     "name": "stdout",
     "output_type": "stream",
     "text": [
      "[-14.54491909]\n"
     ]
    }
   ],
   "source": [
    "print(posterior(0.2,0.3,G,d,m0,Cdinv,Cminv,Kd,Km))"
   ]
  },
  {
   "cell_type": "code",
   "execution_count": 31,
   "id": "479bbdb6",
   "metadata": {},
   "outputs": [],
   "source": [
    "#Se define una propuesta inicial [parámetro 1, parámetro 2]\n",
    "p0=[0.5,0.5]\n",
    "#La propuesta se convierte de una lista a un objeto numpy array\n",
    "p0=np.array(p0)\n",
    "#Se define un número de repeticiondes del MCMC\n",
    "Nc=5*(10**5)\n",
    "#Se define un arreglo para los datos generados con el muestreo\n",
    "MCMC=np.zeros([Nc, len(p0)]) \n",
    "#Se define un arreglo para las muestras de la posterior\n",
    "ln_probs = np.zeros(Nc) \n",
    "#Se define la primer muestra de la posterior a partir de la primer propuesta para los parámetros\n",
    "ln_probs[0]=posterior(p0[0],p0[1],G,d,m0,Cdinv,Cminv,Kd,Km)\n",
    "\n",
    "#Se asigna la primer propuesta el primer elemento de la cadena \n",
    "MCMC[0]=p0  \n",
    "\n",
    "#Se toma un tiempo de inicio para medir el tiempo de ejecución con el método MCMC \n",
    "start_MCMC=time.perf_counter()\n",
    "    \n",
    "#Cíclo que realiza el MCMC\n",
    "for i in range(1,Nc):\n",
    "    #Se calculan las perturbaciones para los parámetros extraidas de distribuciones normales truncadas a manera de obtener únicamente muestras dentro del espacio paramétrico.    \n",
    "    pertm1=truncnorm.rvs(-(MCMC[i-1,0]-a1),b1-MCMC[i-1,0],loc=0, scale=1) \n",
    "    pertm2=truncnorm.rvs(-(MCMC[i-1,1]-a2),b2-MCMC[i-1,1],loc=0, scale=1) \n",
    "    #Las perturbaciones para ambos parámetros se introducen en un arreglo numpy\n",
    "    pert=np.array([pertm1,pertm2])\n",
    "    #Se perturban los parámetros\n",
    "    propuesta=MCMC[i-1]+pert\n",
    "    #Se obtiene la distribución posterior de los parámetros perturbados\n",
    "    #Newlnprob=np.log(Kb*np.exp(-0.5*np.matmul(np.matmul(np.transpose(np.array([[propuesta[0]],[propuesta[1]]])-mv),Cmvinv),(np.array([[propuesta[0]],[propuesta[1]]])-mv))))\n",
    "    Newlnprob=posterior(propuesta[0],propuesta[1],G,d,m0,Cdinv,Cminv,Kd,Km)\n",
    "    #Se obtiene la relación entre los parámetros perturbados y los de la iteración anterior\n",
    "    Ratiolnprob=Newlnprob-ln_probs[i-1]\n",
    "    #Criterio de metrópolis\n",
    "    if (Ratiolnprob > 0) or (Ratiolnprob > np.log(np.random.uniform())):\n",
    "        MCMC[i] = propuesta\n",
    "        ln_probs[i] = Newlnprob\n",
    "    else:\n",
    "        MCMC[i]=MCMC[i-1]\n",
    "        ln_probs[i]=ln_probs[i-1]\n",
    "\n",
    "#Se toma el tiempo final para medir el tiempo de ejecución con el método MCMC \n",
    "end_MCMC=time.perf_counter()"
   ]
  },
  {
   "cell_type": "code",
   "execution_count": 32,
   "id": "4e9dc7b6",
   "metadata": {},
   "outputs": [
    {
     "name": "stdout",
     "output_type": "stream",
     "text": [
      "Tiempo de ejecución MCMC: 320.19436828099424\n"
     ]
    }
   ],
   "source": [
    "print(\"Tiempo de ejecución MCMC:\",end_MCMC-start_MCMC)"
   ]
  },
  {
   "cell_type": "code",
   "execution_count": 33,
   "id": "c03fef01",
   "metadata": {},
   "outputs": [
    {
     "data": {
      "image/png": "[encoded data removed]",
      "text/plain": [
       "<Figure size 432x288 with 1 Axes>"
      ]
     },
     "metadata": {
      "needs_background": "light"
     },
     "output_type": "display_data"
    },
    {
     "data": {
      "image/png": "[encoded data removed]",
      "text/plain": [
       "<Figure size 432x288 with 1 Axes>"
      ]
     },
     "metadata": {
      "needs_background": "light"
     },
     "output_type": "display_data"
    },
    {
     "data": {
      "image/png": "[encoded data removed]",
      "text/plain": [
       "<Figure size 432x288 with 1 Axes>"
      ]
     },
     "metadata": {
      "needs_background": "light"
     },
     "output_type": "display_data"
    }
   ],
   "source": [
    "plt.plot(MCMC[:,0],label=\"Muestras de la cadena\")\n",
    "plt.show()\n",
    "\n",
    "\n",
    "MCMC1=MCMC[1000:]\n",
    "\n",
    "plt.plot(MCMC1[:,0],label=\"Muestras de la cadena\")\n",
    "plt.show()\n",
    "\n",
    "plt.hist(MCMC1[:,0],bins=100)\n",
    "plt.show()"
   ]
  },
  {
   "cell_type": "code",
   "execution_count": 34,
   "id": "6b1217e6",
   "metadata": {},
   "outputs": [
    {
     "data": {
      "image/png": "[encoded data removed]",
      "text/plain": [
       "<Figure size 432x288 with 1 Axes>"
      ]
     },
     "metadata": {
      "needs_background": "light"
     },
     "output_type": "display_data"
    },
    {
     "data": {
      "image/png": "[encoded data removed]",
      "text/plain": [
       "<Figure size 432x288 with 1 Axes>"
      ]
     },
     "metadata": {
      "needs_background": "light"
     },
     "output_type": "display_data"
    },
    {
     "data": {
      "image/png": "[encoded data removed]",
      "text/plain": [
       "<Figure size 432x288 with 1 Axes>"
      ]
     },
     "metadata": {
      "needs_background": "light"
     },
     "output_type": "display_data"
    }
   ],
   "source": [
    "plt.plot(MCMC[:,1],label=\"Muestras de la cadena\")\n",
    "plt.show()\n",
    "\n",
    "\n",
    "MCMC1=MCMC[1000:]\n",
    "\n",
    "plt.plot(MCMC1[:,1],label=\"Muestras de la cadena\")\n",
    "plt.show()\n",
    "\n",
    "\n",
    "plt.hist(MCMC1[:,1],bins=100)\n",
    "plt.show()"
   ]
  },
  {
   "cell_type": "code",
   "execution_count": 35,
   "id": "78bad1bd",
   "metadata": {},
   "outputs": [],
   "source": [
    "#\n",
    "m1d=np.arange(np.min(MCMC1[:,0]),np.max(MCMC1[:,0]),0.05)\n",
    "#\n",
    "m2d=np.arange(np.min(MCMC1[:,1]),np.max(MCMC1[:,1]),0.05)\n",
    "M1d,M2d=np.meshgrid(m1d, m2d)"
   ]
  },
  {
   "cell_type": "code",
   "execution_count": 36,
   "id": "2e4e5b16",
   "metadata": {},
   "outputs": [],
   "source": [
    "SigmaMCMC=np.zeros((len(m1d),len(m2d)))\n",
    "\n",
    "for i in range(0,len(m1d)-1):\n",
    "    for j in range(0,len(m2d)-1):\n",
    "        for k in range(0,len(MCMC[:,1])):\n",
    "            if (MCMC[k,0]>=m1d[i] and MCMC[k,0]<m1d[i+1] and MCMC[k,1]>=m2d[j] and MCMC[k,1]<m2d[j+1]):\n",
    "                SigmaMCMC[i,j]=SigmaMCMC[i,j]+1\n",
    "                np.delete(MCMC, k, axis=0)"
   ]
  },
  {
   "cell_type": "code",
   "execution_count": 39,
   "id": "80c0c254",
   "metadata": {},
   "outputs": [
    {
     "name": "stdout",
     "output_type": "stream",
     "text": [
      "0.9999999999999999\n"
     ]
    }
   ],
   "source": [
    "dA=((m1d[1]-m1d[0])*(m2d[1]-m2d[0]))\n",
    "dl1=m1d[1]-m1d[0]\n",
    "dl2=m2d[1]-m2d[0]\n",
    "SigmaMCMC=SigmaMCMC*dA\n",
    "norm_factor=np.sum(SigmaMCMC)\n",
    "SigmaMCMC=SigmaMCMC/norm_factor/dA\n",
    "print(np.sum(SigmaMCMC)*dA)"
   ]
  },
  {
   "cell_type": "code",
   "execution_count": 40,
   "id": "9e48bf65",
   "metadata": {},
   "outputs": [
    {
     "name": "stdout",
     "output_type": "stream",
     "text": [
      "1.0\n",
      "0.9999999999999999\n"
     ]
    }
   ],
   "source": [
    "SigMarg1=np.sum((SigmaMCMC)*dl2,axis=1)\n",
    "print(np.sum(SigMarg1*dl1))\n",
    "\n",
    "SigMarg2=np.sum((SigmaMCMC)*dl1,axis=0)\n",
    "print(np.sum(SigMarg2*dl2))"
   ]
  },
  {
   "cell_type": "code",
   "execution_count": 41,
   "id": "0395ad12",
   "metadata": {},
   "outputs": [
    {
     "data": {
      "image/png": "[encoded data removed]",
      "text/plain": [
       "<Figure size 936x360 with 2 Axes>"
      ]
     },
     "metadata": {
      "needs_background": "light"
     },
     "output_type": "display_data"
    }
   ],
   "source": [
    "fig, axs = plt.subplots(1, 2,figsize=(13, 5))\n",
    "axs[0].bar(m1d,SigMarg1,width=0.05,edgecolor=\"k\",color=\"c\",linewidth=1.2,label=\"MCMC\")\n",
    "#axs[0].plot(m1,sigmMb1[0],color=\"r\",label=\"Aprox. α=8\",linewidth=3)\n",
    "\n",
    "axs[0].set_xlim([-0.025,1])\n",
    "axs[0].set_ylim([0,4])\n",
    "axs[0].set_ylabel(\"PDF\",fontsize=12,fontweight=600)\n",
    "axs[0].set_xlabel(\"m1\",fontsize=12,fontweight=600)\n",
    "axs[0].legend(prop={'size': 12})\n",
    "#axs[0].set_title(\"PDF posterior, α=\"+str(alpha),fontsize=14,fontweight=600)\n",
    "\n",
    "\n",
    "axs[1].bar(m2d,SigMarg2,width=0.05,edgecolor=\"k\",color=\"c\",linewidth=1.2,label=\"MCMC\")\n",
    "#axs[1].plot(m2,sigmMb2[0],color=\"r\",label=\"Aprox. α=8\",linewidth=3)\n",
    "axs[1].set_xlim([-0.025,1])\n",
    "axs[1].set_ylim([0,1.8])\n",
    "axs[1].set_ylabel(\"PDF\",fontsize=12,fontweight=600)\n",
    "axs[1].set_xlabel(\"m2\",fontsize=12,fontweight=600)\n",
    "axs[1].legend(prop={'size': 12})\n",
    "#axs[1].set_title(\"PDF posterior MCMC (sin normalizar)\",fontsize=14,fontweight=550)\n",
    "#axs[2].plot(names, values)\n",
    "#fig.suptitle('Categorical Plotting')\n",
    "plt.tight_layout()\n",
    "#plt.savefig(\"PDF_marg_sintetico.png\",dpi=400,bbox_inches='tight')\n",
    "plt.show()\n"
   ]
  },
  {
   "cell_type": "code",
   "execution_count": null,
   "id": "4078954c",
   "metadata": {},
   "outputs": [],
   "source": []
  },
  {
   "cell_type": "code",
   "execution_count": null,
   "id": "2fccc960",
   "metadata": {},
   "outputs": [],
   "source": []
  },
  {
   "cell_type": "code",
   "execution_count": null,
   "id": "dd43c757",
   "metadata": {},
   "outputs": [],
   "source": []
  },
  {
   "cell_type": "code",
   "execution_count": null,
   "id": "da3863c2",
   "metadata": {},
   "outputs": [],
   "source": []
  },
  {
   "cell_type": "code",
   "execution_count": null,
   "id": "d64109d8",
   "metadata": {},
   "outputs": [],
   "source": []
  },
  {
   "cell_type": "code",
   "execution_count": 28,
   "id": "58164553",
   "metadata": {
    "scrolled": true
   },
   "outputs": [
    {
     "data": {
      "text/plain": [
       "[]"
      ]
     },
     "execution_count": 28,
     "metadata": {},
     "output_type": "execute_result"
    },
    {
     "data": {
      "image/png": "[encoded data removed]",
      "text/plain": [
       "<Figure size 432x288 with 2 Axes>"
      ]
     },
     "metadata": {
      "needs_background": "light"
     },
     "output_type": "display_data"
    }
   ],
   "source": [
    "plt.contourf(M1d,M2d,np.transpose(SigmaMCMC))\n",
    "plt.colorbar()\n",
    "plt.plot()"
   ]
  },
  {
   "cell_type": "code",
   "execution_count": 29,
   "id": "4e7e61d7",
   "metadata": {},
   "outputs": [
    {
     "data": {
      "text/plain": [
       "[]"
      ]
     },
     "execution_count": 29,
     "metadata": {},
     "output_type": "execute_result"
    },
    {
     "data": {
      "image/png": "[encoded data removed]",
      "text/plain": [
       "<Figure size 432x288 with 2 Axes>"
      ]
     },
     "metadata": {
      "needs_background": "light"
     },
     "output_type": "display_data"
    }
   ],
   "source": [
    "m1_bins = np.linspace(np.min(MCMC[:,0]), np.max(MCMC[:,0]), 50) \n",
    "m2_bins = np.linspace(np.min(MCMC[:,1]), np.max(MCMC[:,1]), 50) \n",
    "\n",
    "plt.hist2d(MCMC[:,0], MCMC[:,1],bins =[m1_bins, m2_bins]) \n",
    "plt.colorbar()\n",
    "plt.xlabel(\"m1\")\n",
    "plt.ylabel(\"m2\")\n",
    "plt.title(\"PDF posterior MCMC (sin normalizar)\")\n",
    "plt.plot()"
   ]
  },
  {
   "cell_type": "code",
   "execution_count": 30,
   "id": "0854884d",
   "metadata": {},
   "outputs": [
    {
     "data": {
      "text/plain": [
       "0.9999999999999999"
      ]
     },
     "execution_count": 30,
     "metadata": {},
     "output_type": "execute_result"
    }
   ],
   "source": [
    "np.sum(SigmaMCMC*dA)"
   ]
  },
  {
   "cell_type": "code",
   "execution_count": 31,
   "id": "210a782b",
   "metadata": {},
   "outputs": [
    {
     "name": "stdout",
     "output_type": "stream",
     "text": [
      "1.0\n",
      "0.9999999999999998\n"
     ]
    },
    {
     "data": {
      "image/png": "[encoded data removed]",
      "text/plain": [
       "<Figure size 432x288 with 1 Axes>"
      ]
     },
     "metadata": {
      "needs_background": "light"
     },
     "output_type": "display_data"
    },
    {
     "data": {
      "image/png": "[encoded data removed]",
      "text/plain": [
       "<Figure size 432x288 with 1 Axes>"
      ]
     },
     "metadata": {
      "needs_background": "light"
     },
     "output_type": "display_data"
    }
   ],
   "source": [
    "SigMarg1=np.sum((SigmaMCMC)*dl2,axis=1)\n",
    "print(np.sum(SigMarg1*dl1))\n",
    "\n",
    "SigMarg2=np.sum((SigmaMCMC)*dl1,axis=0)\n",
    "print(np.sum(SigMarg2*dl2))\n",
    "\n",
    "\n",
    "\n",
    "#Marginal parámetro m1\n",
    "plt.scatter(m1d,SigMarg1)\n",
    "#plt.bar(np.linspace(0,1,20),SigMarg1,width=1,edgecolor=\"k\")\n",
    "#plt.scatter(m1d,M)\n",
    "#plt.show()\n",
    "plt.plot(m1,sigmMb1[0])\n",
    "#plt.xlim(0,1)\n",
    "#plt.ylim(0,4)\n",
    "plt.show()\n",
    "\n",
    "plt.scatter(m2d,SigMarg2)\n",
    "plt.plot(m2,sigmMb2[0])\n",
    "#plt.xlim(0,1)\n",
    "#plt.ylim(0,1.8)\n",
    "#plt.xlim(0,1)\n",
    "#plt.ylim(0,4)\n",
    "\n",
    "plt.show()"
   ]
  },
  {
   "cell_type": "code",
   "execution_count": null,
   "id": "8acc0f98",
   "metadata": {},
   "outputs": [],
   "source": []
  },
  {
   "cell_type": "code",
   "execution_count": null,
   "id": "03d692c9",
   "metadata": {},
   "outputs": [],
   "source": []
  },
  {
   "cell_type": "code",
   "execution_count": null,
   "id": "e6610875",
   "metadata": {},
   "outputs": [],
   "source": []
  },
  {
   "cell_type": "code",
   "execution_count": null,
   "id": "8df0377d",
   "metadata": {},
   "outputs": [],
   "source": []
  },
  {
   "cell_type": "code",
   "execution_count": 34,
   "id": "af6a239b",
   "metadata": {},
   "outputs": [
    {
     "name": "stdout",
     "output_type": "stream",
     "text": [
      "            m1                  m2\n",
      "Media 0.23446743656517388 / 0.3317218362681765\n",
      "std   0.1998280291079767 / 0.2173037361264559\n"
     ]
    }
   ],
   "source": [
    "#Estadísticas MCMC\n",
    "#para m1\n",
    "print(\"            m1\",\"                 m2\")\n",
    "print(\"Media\",np.mean(MCMC1[:,0]),\"/\",np.mean(MCMC1[:,1]))\n",
    "#Para m2\n",
    "print(\"std  \",np.std(MCMC1[:,0]),\"/\",np.std(MCMC1[:,1]))"
   ]
  },
  {
   "cell_type": "code",
   "execution_count": 35,
   "id": "2bc53284",
   "metadata": {},
   "outputs": [
    {
     "name": "stdout",
     "output_type": "stream",
     "text": [
      "            m1                  m2\n",
      "Media 0.23323502832557985 / 0.38460143996929175\n",
      "std   0.2021553344891798 / 0.23423831009992402\n"
     ]
    }
   ],
   "source": [
    "#Estadísticas Nocquet\n",
    "\n",
    "print(\"            m1\",\"                 m2\")\n",
    "print(\"Media\",TNmean(a1,b1,mv[0],(Cmv[0,0])**(0.5)),\"/\",TNmean(a2,b2,mv[1],(Cmv[1,1])**(0.5)))\n",
    "#Para m2\n",
    "print(\"std  \",(TNvar(a1,b1,mv[0],(Cmv[0,0])**(0.5)))**(0.5),\"/\",(TNvar(a1,b1,mv[1],(Cmv[1,1])**(0.5)))**(0.5))"
   ]
  },
  {
   "cell_type": "code",
   "execution_count": null,
   "id": "b9ecec3f",
   "metadata": {},
   "outputs": [],
   "source": []
  },
  {
   "cell_type": "code",
   "execution_count": null,
   "id": "58bd2e14",
   "metadata": {},
   "outputs": [],
   "source": []
  },
  {
   "cell_type": "code",
   "execution_count": null,
   "id": "c8098228",
   "metadata": {},
   "outputs": [],
   "source": []
  },
  {
   "cell_type": "code",
   "execution_count": null,
   "id": "a430500c",
   "metadata": {},
   "outputs": [],
   "source": []
  },
  {
   "cell_type": "code",
   "execution_count": null,
   "id": "9b96625a",
   "metadata": {},
   "outputs": [],
   "source": [
    "TNmean()"
   ]
  },
  {
   "cell_type": "code",
   "execution_count": 26,
   "id": "3364064b",
   "metadata": {},
   "outputs": [],
   "source": [
    "#Funcion que calcula la expectatica y la matriz de covarianza posterior de una distribución de probabilidad normal\n",
    "def mvCmv(G,d,Cdinv,alpha,limsup,m0):\n",
    "    \n",
    "    GT=np.transpose(G)\n",
    "    #Se define la desviación estandar (pp 373, primer párrafo, quinto renglón)\n",
    "    sigma=alpha*(limsup/2)\n",
    "    #Se define la matriz de covarianza de los parámetros (pp) (pp 372, primer parrafo, segundo renglón)\n",
    "    Cm=np.identity(Nm)*((sigma.reshape(Nm,1))**2)\n",
    "    #Se define la inversa la matriz de covarianza de los parámetros\n",
    "    Cminv=np.linalg.inv(Cm)\n",
    "    #Se define la matriz de covarianza posterior (Ecuaciones de Tarantola y Valette, pp. 369, Ec. 7)\n",
    "    Cmv=np.linalg.inv(np.matmul(np.matmul(GT,Cdinv),G)+Cminv)\n",
    "    #Se define la transpuesta de la matriz de covarianza posterior\n",
    "    CmvT=np.transpose(Cmv)\n",
    "    #Se define la inversa de la matriz de covarianza posterior\n",
    "    Cmvinv=np.matmul(np.matmul(GT,Cdinv),G)+Cminv\n",
    "    #Se define la expectativa (Ecuaciones de Tarantola y Valette, pp. 369, Ec. 6)\n",
    "    mv=np.matmul(np.linalg.inv(np.matmul(np.matmul(GT,Cdinv),G)+Cminv), np.matmul(np.matmul(GT,Cdinv),d)+np.matmul(Cminv,m0))\n",
    "    return mv, Cmv"
   ]
  },
  {
   "cell_type": "code",
   "execution_count": 29,
   "id": "66d11ccf",
   "metadata": {},
   "outputs": [
    {
     "name": "stdout",
     "output_type": "stream",
     "text": [
      "0\n",
      "-0.02314888413852047\n",
      "1\n",
      "-0.06340882180945524\n",
      "2\n",
      "-0.08910947339406455\n",
      "3\n",
      "-0.0989575484552804\n",
      "4\n",
      "-0.09687543486508216\n",
      "5\n",
      "-0.08808263960455498\n",
      "6\n",
      "-0.07668984084571806\n",
      "7\n",
      "-0.06516336258039135\n",
      "8\n",
      "-0.05468680188109809\n",
      "9\n",
      "-0.045670306557742735\n",
      "10\n",
      "-0.03813095785389986\n",
      "11\n",
      "-0.03191842532476763\n",
      "12\n",
      "-0.0268316238830687\n",
      "13\n",
      "-0.022672225513425404\n",
      "14\n",
      "-0.019265444962108136\n",
      "15\n",
      "-0.016465290490248807\n",
      "16\n",
      "-0.014153160177824642\n",
      "17\n",
      "-0.012234074572211484\n",
      "18\n",
      "-0.010632478236290654\n",
      "19\n",
      "-0.00928839221360478\n",
      "20\n",
      "-0.008154165810793867\n",
      "21\n",
      "-0.007191845120751328\n",
      "22\n",
      "-0.006371087728049507\n",
      "23\n",
      "-0.005667529486944267\n",
      "24\n",
      "-0.0050615125564381636\n",
      "25\n",
      "-0.00453709663426527\n",
      "26\n",
      "-0.004081289919474096\n",
      "27\n",
      "-0.00368344970907164\n",
      "28\n",
      "-0.0033348137404769496\n",
      "29\n",
      "-0.003028132361290292\n",
      "30\n",
      "-0.002757378608763461\n",
      "31\n",
      "-0.0025175186683061845\n",
      "32\n",
      "-0.0023043292932599657\n",
      "33\n",
      "-0.002114251896563446\n",
      "34\n",
      "-0.0019442754018303976\n",
      "35\n",
      "-0.0017918417484366067\n",
      "36\n",
      "-0.001654769321621119\n",
      "37\n",
      "-0.001531190629797008\n",
      "38\n",
      "-0.0014195013566828951\n",
      "39\n",
      "-0.0013183185352284577\n",
      "40\n",
      "-0.0012264460684340284\n",
      "41\n",
      "-0.0011428461927689426\n",
      "42\n",
      "-0.0010666157683451027\n",
      "43\n",
      "-0.0009969665054447852\n",
      "44\n",
      "-0.0009332084139399566\n",
      "45\n",
      "-0.0008747359015955913\n",
      "46\n",
      "-0.0008210160575955472\n",
      "47\n",
      "-0.0007715787453186351\n",
      "48\n",
      "-0.0007260081983372357\n",
      "49\n",
      "-0.0006839358696205666\n",
      "50\n",
      "-0.0006450343289625682\n",
      "51\n",
      "-0.0006090120399856458\n",
      "52\n",
      "-0.0005756088774844237\n",
      "53\n",
      "-0.0005445922698065209\n",
      "54\n",
      "-0.0005157538704414488\n",
      "55\n",
      "-0.0004889066789632857\n",
      "56\n",
      "-0.0004638825445627548\n",
      "57\n",
      "-0.00044052999618438005\n",
      "58\n",
      "-0.0004187123522055858\n",
      "59\n",
      "-0.0003983060699701557\n",
      "60\n",
      "-0.00037919930161833815\n",
      "61\n",
      "-0.0003612906277803418\n",
      "62\n",
      "-0.0003444879449617799\n",
      "63\n",
      "-0.0003287074860309769\n",
      "64\n",
      "-0.0003138729562288667\n",
      "65\n",
      "-0.0002999147696562954\n",
      "66\n",
      "-0.0002867693733200616\n",
      "67\n",
      "-0.0002743786476526733\n",
      "68\n",
      "-0.0002626893739283709\n",
      "69\n",
      "-0.0002516527603292351\n",
      "70\n",
      "-0.00024122401951442995\n",
      "71\n",
      "-0.00023136199149664805\n"
     ]
    }
   ],
   "source": [
    "alpha=np.ones(Nm)*0.1\n",
    "alphar=np.zeros(Nm)\n",
    "vr=np.zeros(Nm)\n",
    "vraux=np.zeros(Nm)\n",
    "cont=0\n",
    "\n",
    "limsup=1\n",
    "m0=np.array([[limsup/2],[limsup/2]])\n",
    "\n",
    "for i in range(0, 100): #Este ciclo es para ir incrementando el valor de alpha\n",
    "    mvaux,Cmvaux=mvCmv(G,d,Cdinv,alpha,limsup,m0)\n",
    "    for j in range(0,Nm): #Este ciclo es para recorrer cada parámetro \n",
    "        sigprior=alpha[j]*(limsup/2)\n",
    "        #vr=(prior-posterior)/prior\n",
    "        vraux[j]=((sigprior**2)-Cmvaux[j,j])/(sigprior**2)\n",
    "        if ((vraux[j]-vr[j])>0.001):\n",
    "        #if (vraux[j]>vr[j]): #Se revisa si vr incrementó\n",
    "            alphar[j]=alpha[j]\n",
    "            cont=cont+1\n",
    "    #print(cont)\n",
    "    print(i)\n",
    "    print(vr[1]-vraux[1])\n",
    "    #print(vraux)\n",
    "    if (cont==0):\n",
    "        break\n",
    "    cont=0 #Se reinicia el contador que indica las veces que un parámetro mejoró \n",
    "    vr=np.copy(vraux) #Se actualizan los valores vr\n",
    "    alpha=alpha+0.1 #Se incrementa el valor de alpha para la siguiente prueba"
   ]
  },
  {
   "cell_type": "code",
   "execution_count": null,
   "id": "2b655915",
   "metadata": {},
   "outputs": [],
   "source": []
  },
  {
   "cell_type": "code",
   "execution_count": null,
   "id": "2993ab46",
   "metadata": {},
   "outputs": [],
   "source": []
  },
  {
   "cell_type": "code",
   "execution_count": null,
   "id": "d8e0e908",
   "metadata": {},
   "outputs": [],
   "source": []
  },
  {
   "cell_type": "code",
   "execution_count": null,
   "id": "d1385bf5",
   "metadata": {},
   "outputs": [],
   "source": []
  },
  {
   "cell_type": "code",
   "execution_count": null,
   "id": "70106320",
   "metadata": {},
   "outputs": [],
   "source": []
  },
  {
   "cell_type": "code",
   "execution_count": null,
   "id": "cda88b79",
   "metadata": {},
   "outputs": [],
   "source": []
  },
  {
   "cell_type": "code",
   "execution_count": null,
   "id": "7f838da9",
   "metadata": {},
   "outputs": [],
   "source": []
  },
  {
   "cell_type": "code",
   "execution_count": 122,
   "id": "ed8297cd",
   "metadata": {},
   "outputs": [
    {
     "data": {
      "image/png": "[encoded data removed]",
      "text/plain": [
       "<Figure size 432x288 with 1 Axes>"
      ]
     },
     "metadata": {
      "needs_background": "light"
     },
     "output_type": "display_data"
    },
    {
     "data": {
      "image/png": "[encoded data removed]",
      "text/plain": [
       "<Figure size 432x288 with 1 Axes>"
      ]
     },
     "metadata": {
      "needs_background": "light"
     },
     "output_type": "display_data"
    }
   ],
   "source": [
    "#plt.subplot(1,2,1)\n",
    "#Marginal parámetro m1\n",
    "#plt.scatter(m1d,SigMarg1)\n",
    "#plt.bar(np.linspace(0,1,20),SigMarg1,width=1,edgecolor=\"k\")\n",
    "plt.bar(m1d,SigMarg1,width=0.05,edgecolor=\"k\",color=\"c\",linewidth=1.2,label=\"MCMC\")\n",
    "#plt.scatter(m1d,M)\n",
    "#plt.show()\n",
    "plt.plot(m1,sigmMb1[0],color=\"r\",label=\"Aprox. α=8\",linewidth=3)\n",
    "plt.xlim(-0.025,1)\n",
    "plt.ylim(0,4)\n",
    "plt.xlabel(\"m1\",fontsize=12)\n",
    "plt.ylabel(\"PDF\",fontsize=12)\n",
    "plt.legend(prop={'size': 12})\n",
    "plt.show()\n",
    "\n",
    "#plt.subplot(1,2,2)\n",
    "\n",
    "#plt.scatter(m2d,SigMarg2)\n",
    "plt.bar(m2d,SigMarg2,width=0.05,edgecolor=\"k\",color=\"c\",linewidth=1.2,label=\"MCMC\")\n",
    "plt.plot(m2,sigmMb2[0],color=\"r\",label=\"Aprox. α=8\",linewidth=3)\n",
    "#plt.xlim(0,1)\n",
    "plt.ylim(0,1.8)\n",
    "plt.xlim(-0.025,1)\n",
    "plt.xlabel(\"m2\",fontsize=12)\n",
    "plt.ylabel(\"PDF\",fontsize=12)\n",
    "#plt.ylim(0,4)\n",
    "plt.legend(prop={'size': 12})\n",
    "plt.show()"
   ]
  },
  {
   "cell_type": "code",
   "execution_count": null,
   "id": "465a13ee",
   "metadata": {},
   "outputs": [],
   "source": []
  },
  {
   "cell_type": "code",
   "execution_count": null,
   "id": "3016f51e",
   "metadata": {},
   "outputs": [],
   "source": []
  },
  {
   "cell_type": "code",
   "execution_count": null,
   "id": "aa8c178d",
   "metadata": {},
   "outputs": [],
   "source": []
  },
  {
   "cell_type": "code",
   "execution_count": null,
   "id": "07f0746e",
   "metadata": {},
   "outputs": [],
   "source": []
  },
  {
   "cell_type": "code",
   "execution_count": null,
   "id": "138428d0",
   "metadata": {},
   "outputs": [],
   "source": []
  },
  {
   "cell_type": "code",
   "execution_count": null,
   "id": "bdaf07e3",
   "metadata": {},
   "outputs": [],
   "source": []
  },
  {
   "cell_type": "code",
   "execution_count": null,
   "id": "471aa346",
   "metadata": {},
   "outputs": [],
   "source": []
  },
  {
   "cell_type": "code",
   "execution_count": null,
   "id": "642b5f7d",
   "metadata": {},
   "outputs": [],
   "source": []
  },
  {
   "cell_type": "code",
   "execution_count": 59,
   "id": "a6b5807b",
   "metadata": {},
   "outputs": [],
   "source": []
  },
  {
   "cell_type": "code",
   "execution_count": 75,
   "id": "dc49c220",
   "metadata": {},
   "outputs": [],
   "source": [
    "m=np.zeros((len(m1),Nm))+m1.reshape(len(m1),1)\n",
    "xmar=np.linspace(0,1,500)\n",
    "R1=PDFmarginal(xmar,m,Cmv,mv,Kb,[1])\n",
    "R2=PDFmarginal(xmar,m,Cmv,mv,Kb,[0])\n",
    "#R1\n",
    "#plt.plot(R1[0])\n",
    "#plt.show()"
   ]
  },
  {
   "cell_type": "code",
   "execution_count": 141,
   "id": "e53c0293",
   "metadata": {},
   "outputs": [
    {
     "data": {
      "image/png": "[encoded data removed]",
      "text/plain": [
       "<Figure size 432x288 with 1 Axes>"
      ]
     },
     "metadata": {
      "needs_background": "light"
     },
     "output_type": "display_data"
    }
   ],
   "source": [
    "m=np.zeros((len(m1),Nm))+m1.reshape(len(m1),1)\n",
    "Sig1D=marginal(m,Cmv,mv,Kb,[1])\n",
    "\n",
    "plt.plot(m1,Sig1D[0])\n",
    "plt.show()"
   ]
  },
  {
   "cell_type": "code",
   "execution_count": null,
   "id": "a1c76840",
   "metadata": {},
   "outputs": [],
   "source": []
  },
  {
   "cell_type": "code",
   "execution_count": null,
   "id": "623c9dd5",
   "metadata": {},
   "outputs": [],
   "source": []
  }
 ],
 "metadata": {
  "kernelspec": {
   "display_name": "Python 3",
   "language": "python",
   "name": "python3"
  },
  "language_info": {
   "codemirror_mode": {
    "name": "ipython",
    "version": 3
   },
   "file_extension": ".py",
   "mimetype": "text/x-python",
   "name": "python",
   "nbconvert_exporter": "python",
   "pygments_lexer": "ipython3",
   "version": "3.9.7"
  }
 },
 "nbformat": 4,
 "nbformat_minor": 5
}
