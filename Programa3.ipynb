{
 "cells": [
  {
   "cell_type": "code",
   "execution_count": 1,
   "id": "903e2b39",
   "metadata": {},
   "outputs": [],
   "source": [
    "#Universidad Nacional Autónoma de México\n",
    "#Posgrado en Ciencias de la Tierra \n",
    "#Campo 1, geofísica de la Tierra sólida, sismología\n",
    "\n",
    "#Elaborado por Isaac Valverde, 2023\n",
    "\n",
    "#Programa 3: Notebook de python 3 que calcula los coeficientes de variación apartir de una simplificación de la estrategia semianalítica de Noquet (2018) que desprecia el término de asimetría en las marginales.\n",
    "#Basado en la estrategia semianalítica de Noquet (2018)\n",
    "\n",
    "#Nota: Las ecuaciones referidas en este notebook corresponden al articulo \"Stochastic static fault slip inversion from geodetic data with non-negativity and bound constraints\" Noquet (2018)"
   ]
  },
  {
   "cell_type": "code",
   "execution_count": 2,
   "id": "c59402ea",
   "metadata": {},
   "outputs": [],
   "source": [
    "import numpy as np\n",
    "import matplotlib.pyplot as plt\n",
    "from scipy.stats import norm"
   ]
  },
  {
   "cell_type": "code",
   "execution_count": 3,
   "id": "048ec305",
   "metadata": {},
   "outputs": [],
   "source": [
    "#Función que calcula la media de una función de densidad normal truncada\n",
    "#Entradas\n",
    "#a: Límite inferior del intervalo de truncamiento\n",
    "#b: Límite superior del intervalo de truncamiento\n",
    "#m: Media de la normal truncada\n",
    "#sd: Desviación estandar de la normal truncada\n",
    "#ndx: Discretización del recorrido de la función\n",
    "#Salida\n",
    "#I: Media de la normal truncada\n",
    "\n",
    "def TNmean(ai,bi,m,sd,ndx=10000):\n",
    "    #Se define un vector de recorrido dentro del intervale de truncamiento \n",
    "    xi=np.linspace(ai,bi,ndx)\n",
    "    #Se evalúa la función (normal truncada)\n",
    "    fi=(norm.pdf((xi-m)/sd)/(norm.cdf((bi-m)/sd)-norm.cdf((ai-m)/sd)))*(1/sd)\n",
    "    #Se obtiene la media a partir de la definición del primer momento de una función aleatoria\n",
    "    I=np.trapz(fi*xi,x=xi,dx=(xi[1]-xi[0]))\n",
    "    return I"
   ]
  },
  {
   "cell_type": "code",
   "execution_count": 4,
   "id": "6b47a46d",
   "metadata": {},
   "outputs": [],
   "source": [
    "#Función que calcula la varianza de una función de densidad normal truncada\n",
    "#Entradas\n",
    "#ai: Límite inferior del intervalo de truncamiento\n",
    "#bi: Límite superior del intervalo de truncamiento\n",
    "#m: Media de la normal truncada\n",
    "#sd: Desviación estandar de la normal truncada\n",
    "#ndx: Discretización del recorrido de la función\n",
    "#Salida\n",
    "#I: Varianza de la normal truncada\n",
    "\n",
    "def TNvar(ai,bi,m,sd,ndx=10000):\n",
    "    #Se define un vector de recorrido dentro del intervale de truncamiento\n",
    "    xi=np.linspace(ai,bi,ndx)\n",
    "    #Se evalúa la función (normal truncada)\n",
    "    fi=(norm.pdf((xi-m)/sd)/(norm.cdf((bi-m)/sd)-norm.cdf((ai-m)/sd)))*(1/sd)\n",
    "    #Se obtiene la varianza a partir de la definición del segundo momento de una función aleatoria\n",
    "    I=np.trapz(fi*(xi-TNmean(ai,bi,m,sd,ndx))**2,x=xi,dx=(xi[1]-xi[0]))\n",
    "    return I"
   ]
  },
  {
   "cell_type": "code",
   "execution_count": 5,
   "id": "0a3248d2",
   "metadata": {},
   "outputs": [],
   "source": [
    "#Funcion que calcula el vector de medias y la matriz de covarianza de la función de densidad de probabilidad posteriora partir de las expresiones de Tarantola y Valette (1982)\n",
    "#Entradas\n",
    "#G: Matriz kernel de la inversión (dimensión número de datos por número de parámetros) \n",
    "#d: Vector columna que contiene los datos de desplazamiento (de dimensión 1 por número de datos)\n",
    "#Cdinv: Matriz de covarianza de los datos\n",
    "#alpha:Valor de alpha para aproximar la distribución apriori\n",
    "#limsup: Vector que contiene el límite superior del intervalo de truncamiento de cada parámetro\n",
    "#m0: Media de la distribucion apriori\n",
    "#Salida\n",
    "#mv: Vector de medias de la posterior\n",
    "#Cmv: Matriz de covarianza de la posterior\n",
    "\n",
    "def mvCmv(G,d,Cdinv,alpha,limsup,m0):\n",
    "    \n",
    "    #Se obtiene el número de parámetros\n",
    "    Nm=np.shape(G)[1]\n",
    "    #Se obtiene la transpuesta de la kernel G\n",
    "    GT=np.transpose(G)\n",
    "    #Se define la desviación estandar (pp 373, primer párrafo, quinto renglón)\n",
    "    sigma=alpha*(limsup/2)\n",
    "    #Se define la matriz de covarianza de los parámetros (pp) (pp 372, primer parrafo, segundo renglón)\n",
    "    #Cm=np.identity(Nm)*((sigma.reshape(Nm,1))**2)\n",
    "    Cm=np.identity(Nm)*(((np.ones(Nm)*sigma).reshape(Nm,1))**2)\n",
    "    #Se define la inversa la matriz de covarianza de los parámetros\n",
    "    Cminv=np.linalg.inv(Cm)\n",
    "    #Se define la matriz de covarianza posterior (Ecuaciones de Tarantola y Valette, pp. 369, Ec. 7)\n",
    "    Cmv=np.linalg.inv(np.matmul(np.matmul(GT,Cdinv),G)+Cminv)\n",
    "    #Se define la transpuesta de la matriz de covarianza posterior\n",
    "    CmvT=np.transpose(Cmv)\n",
    "    #Se define la inversa de la matriz de covarianza posterior\n",
    "    Cmvinv=np.matmul(np.matmul(GT,Cdinv),G)+Cminv\n",
    "    #Se define la expectativa (Ecuaciones de Tarantola y Valette, pp. 369, Ec. 6)\n",
    "    mv=np.matmul(np.linalg.inv(np.matmul(np.matmul(GT,Cdinv),G)+Cminv), np.matmul(np.matmul(GT,Cdinv),d)+np.matmul(Cminv,m0))\n",
    "    return mv, Cmv"
   ]
  },
  {
   "cell_type": "code",
   "execution_count": 6,
   "id": "99a78bd3",
   "metadata": {},
   "outputs": [],
   "source": [
    "#Se define el número de datos (3 componentes por 11 estaciones)\n",
    "Nd=33\n",
    "#Se define el número de parámetros (Discretización de falla de 18x18)\n",
    "Nm=324"
   ]
  },
  {
   "cell_type": "code",
   "execution_count": 7,
   "id": "42248c6c",
   "metadata": {},
   "outputs": [],
   "source": [
    "#----------------------------Lectura y asignación de datos----------------------------\n",
    "\n",
    "#Se extraen los datos de la matriz G\n",
    "Gfile=open(\"G324.txt\", \"r\")\n",
    "Gstr=Gfile.read()\n",
    "Gstrsplit=Gstr.split()\n",
    "\n",
    "#Se extraen los datos de las estaciones\n",
    "dfile=open(\"d.txt\", \"r\")\n",
    "dstr=dfile.read()\n",
    "dstrsplit=dstr.split()\n",
    "\n",
    "#Se define un arreglo para la matriz G\n",
    "G=np.zeros((Nd,Nm))\n",
    "#Se define un arreglo para los datos\n",
    "d=np.zeros((Nd,1))\n",
    "\n",
    "#Se almacenan los datos de la matriz G y el vector d en los arreglos correspondientes\n",
    "for i in range (0,Nd):\n",
    "    G[i,:]=np.array(Gstrsplit[(i*(Nm)):(i*(Nm))+Nm])\n",
    "    d[i][0]=float(dstrsplit[i])\n",
    "    \n",
    "#Se define la transpuesta de la matriz G   \n",
    "GT=np.transpose(G)"
   ]
  },
  {
   "cell_type": "code",
   "execution_count": 8,
   "id": "2247d7c0",
   "metadata": {},
   "outputs": [],
   "source": [
    "#----------------------------Matriz de covarianza de los datos----------------------------\n",
    "#Se definen los valores de varianza de cada componente por estación\n",
    "Vd=[2.1**2,2.5**2,5.1**2]*int(Nd/3)\n",
    "#Se convierte le lista de valores a un arreglo numpy y las unidades a metros\n",
    "Vd=np.array(Vd)*(10**-3)\n",
    "#Se especifíca el vector de varianzas como vector columna\n",
    "Vd=Vd.reshape(Nd,1)\n",
    "#Se define una matriz cuya diagonal corresponde al vector de varianzas para obtener la matriz de covarianza de los datos\n",
    "Cd=Vd*np.identity(Nd)\n",
    "#Se obtiene la inversa de la matriz de covarianza de los datos\n",
    "Cdinv=np.linalg.inv(Cd)"
   ]
  },
  {
   "cell_type": "code",
   "execution_count": 9,
   "id": "a062e209",
   "metadata": {},
   "outputs": [],
   "source": [
    "#------------------------Espacio de parámetros------------------------\n",
    "\n",
    "#Se define el límite inferior de los parámetros\n",
    "liminf=-0.004931\n",
    "#Se define el límite superior de los parámetros\n",
    "limsup=4.931506\n",
    "\n",
    "#Se define un vector con el límite inferior de cada parámetro\n",
    "a=np.zeros((1,Nm))+liminf\n",
    "#Se define un vector con el límite superior de cada parámetro\n",
    "b=np.zeros((1,Nm))+limsup\n",
    "#Se define el valor de alpha\n",
    "alpha=8\n",
    "#Se define un vector con la media de los parámetros (pp 372, primer parrafo, tercer renglón)\n",
    "m0=np.zeros((Nm,1))+(limsup/2)"
   ]
  },
  {
   "cell_type": "code",
   "execution_count": 10,
   "id": "b8ecb608",
   "metadata": {},
   "outputs": [],
   "source": [
    "#Se calcula el vector de medias y la matriz de covarianza de la posterior\n",
    "mv_c,Cmv_c=mvCmv(G,d,Cdinv,alpha,limsup,m0)"
   ]
  },
  {
   "cell_type": "code",
   "execution_count": 11,
   "id": "364ca97b",
   "metadata": {},
   "outputs": [
    {
     "data": {
      "image/png": "[encoded data removed]",
      "text/plain": [
       "<Figure size 432x288 with 2 Axes>"
      ]
     },
     "metadata": {
      "needs_background": "light"
     },
     "output_type": "display_data"
    }
   ],
   "source": [
    "#Se definen arreglos para almacenar la media, desviación estandar y coeficiente de variación de las marginales\n",
    "Means=np.zeros(Nm)\n",
    "StandarD=np.zeros(Nm)\n",
    "CV324=np.zeros(Nm)\n",
    "\n",
    "#Se inicia un ciclo para recorrer todos los parámetros\n",
    "for j in range(0,Nm):\n",
    "    Means[j]=TNmean(liminf,limsup,mv_c[j],(Cmv_c[j][j])**(0.5))\n",
    "    StandarD[j]=(TNvar(liminf,limsup,mv_c[j],(Cmv_c[j][j])**(0.5)))**(0.5)\n",
    "    CV324[j]=(StandarD[j]/Means[j])*100\n",
    "\n",
    "#Se desplazan los valores de coeficiente de variación a un rango iniciando en cero 0 \n",
    "CV324=CV324-np.min(CV324)\n",
    "#Se normalizan los coeficientes de variación respecto al valor máximo y se multiplican por 100 \n",
    "CV324=(CV324*100)/np.max(CV324)\n",
    "    \n",
    "plt.contourf(np.rot90(CV324.reshape(18,18),k=3))\n",
    "plt.title(\"Aproximación alpha=\"+str(alpha))\n",
    "plt.colorbar()\n",
    "plt.show()"
   ]
  },
  {
   "cell_type": "code",
   "execution_count": null,
   "id": "8fa78f16",
   "metadata": {},
   "outputs": [],
   "source": []
  },
  {
   "cell_type": "code",
   "execution_count": null,
   "id": "134e4da9",
   "metadata": {},
   "outputs": [],
   "source": []
  }
 ],
 "metadata": {
  "kernelspec": {
   "display_name": "Python 3",
   "language": "python",
   "name": "python3"
  },
  "language_info": {
   "codemirror_mode": {
    "name": "ipython",
    "version": 3
   },
   "file_extension": ".py",
   "mimetype": "text/x-python",
   "name": "python",
   "nbconvert_exporter": "python",
   "pygments_lexer": "ipython3",
   "version": "3.9.7"
  }
 },
 "nbformat": 4,
 "nbformat_minor": 5
}
