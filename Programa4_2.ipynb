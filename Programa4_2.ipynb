{
 "cells": [
  {
   "cell_type": "code",
   "execution_count": null,
   "id": "aaa87aa8",
   "metadata": {},
   "outputs": [],
   "source": [
    "#Universidad Nacional Autónoma de México\n",
    "#Posgrado en Ciencias de la Tierra \n",
    "#Campo 1, Geofísica de la Tierra sólida, Sismología\n",
    "\n",
    "#Elaborado por M.C. Isaías Manuel Ramírez Bañales e Isaac Valverde, 2023\n",
    "\n",
    "#Programa 4_2: Notebook de Python 3 que carga las muestras generadas por el notebook \"Programa4_1.ipynb\" y analisa el burning y el lag para obtener una muestra efectiva y posteriormente calcula los coeficientes de variación de cada parámetro"
   ]
  },
  {
   "cell_type": "code",
   "execution_count": 1,
   "id": "050a96c6",
   "metadata": {},
   "outputs": [],
   "source": [
    "import scipy as sp\n",
    "import numpy as np\n",
    "import pandas as pd\n",
    "import matplotlib.pyplot as plt\n",
    "from statsmodels.graphics.tsaplots import plot_acf\n",
    "import emcee"
   ]
  },
  {
   "cell_type": "code",
   "execution_count": 2,
   "id": "de8ca0e0",
   "metadata": {},
   "outputs": [],
   "source": [
    "#Funcion que calcula el vector de medias y la matriz de covarianza de la función de densidad de probabilidad posterior a partir de las expresiones de Tarantola y Valette (1982)\n",
    "#Entradas\n",
    "#G: Matriz kernel de la inversión (dimensión número de datos por número de parámetros) \n",
    "#d: Vector columna que contiene los datos de desplazamiento (de dimensión 1 por número de datos)\n",
    "#Cdinv: Matriz de covarianza de los datos\n",
    "#alpha:Valor de alpha para aproximar la distribución apriori\n",
    "#limsup: Vector que contiene el límite superior del intervalo de truncamiento de cada parámetro\n",
    "#m0: Media de la distribucion apriori\n",
    "#Salida\n",
    "#mv: Vector de medias de la posterior\n",
    "#Cmv: Matriz de covarianza de la posterior\n",
    "\n",
    "def mvCmv(G,d,Cdinv,alpha,limsup,m0):\n",
    "    \n",
    "    #Se obtiene el número de parámetros\n",
    "    Nm=np.shape(G)[1]\n",
    "    #Se obtiene la transpuesta del kernel G\n",
    "    GT=np.transpose(G)\n",
    "    #Se define la desviación estandar (pp 373, primer párrafo, quinto renglón)\n",
    "    sigma=alpha*(limsup/2)\n",
    "    #Se define la matriz de covarianza de los parámetros (pp) (pp 372, primer parrafo, segundo renglón)\n",
    "    Cm=np.identity(Nm)*(((np.ones(Nm)*sigma).reshape(Nm,1))**2)\n",
    "    #Se define la inversa la matriz de covarianza de los parámetros\n",
    "    Cminv=np.linalg.inv(Cm)\n",
    "    #Se define la matriz de covarianza posterior (Ecuaciones de Tarantola y Valette, pp. 369, Ec. 7)\n",
    "    Cmv=np.linalg.inv(np.matmul(np.matmul(GT,Cdinv),G)+Cminv)\n",
    "    #Se define la transpuesta de la matriz de covarianza posterior\n",
    "    CmvT=np.transpose(Cmv)\n",
    "    #Se define la inversa de la matriz de covarianza posterior\n",
    "    Cmvinv=np.matmul(np.matmul(GT,Cdinv),G)+Cminv\n",
    "    #Se define la expectativa (Ecuaciones de Tarantola y Valette, pp. 369, Ec. 6)\n",
    "    mv=np.matmul(np.linalg.inv(np.matmul(np.matmul(GT,Cdinv),G)+Cminv), np.matmul(np.matmul(GT,Cdinv),d)+np.matmul(Cminv,m0))\n",
    "    return mv, Cmv"
   ]
  },
  {
   "cell_type": "code",
   "execution_count": 3,
   "id": "36713719",
   "metadata": {},
   "outputs": [],
   "source": [
    "#Se define el número de datos (3 componentes por 11 estaciones)\n",
    "Nd=33\n",
    "#Se define el número de parámetros (Discretización de falla de 18x18)\n",
    "Nm=324"
   ]
  },
  {
   "cell_type": "code",
   "execution_count": 4,
   "id": "b773b3fc",
   "metadata": {},
   "outputs": [],
   "source": [
    "#----------------------------Lectura y asignación de datos----------------------------\n",
    "\n",
    "#Se extraen los datos de la matriz G\n",
    "Gfile=open(\"G324.txt\", \"r\")\n",
    "Gstr=Gfile.read()\n",
    "Gstrsplit=Gstr.split()\n",
    "\n",
    "#Se extraen los datos de las estaciones\n",
    "dfile=open(\"d.txt\", \"r\")\n",
    "dstr=dfile.read()\n",
    "dstrsplit=dstr.split()\n",
    "\n",
    "#Se define un arreglo para la matriz G\n",
    "G=np.zeros((Nd,Nm))\n",
    "#Se define un arreglo para los datos\n",
    "d=np.zeros((Nd,1))\n",
    "\n",
    "#Se almacenan los datos de la matriz G y el vector d en los arreglos correspondientes\n",
    "for i in range (0,Nd):\n",
    "    G[i,:]=np.array(Gstrsplit[(i*(Nm)):(i*(Nm))+Nm])\n",
    "    d[i][0]=float(dstrsplit[i])\n",
    "    \n",
    "#Se define la transpuesta de la matriz G   \n",
    "GT=np.transpose(G)"
   ]
  },
  {
   "cell_type": "code",
   "execution_count": 5,
   "id": "1518d80e",
   "metadata": {},
   "outputs": [],
   "source": [
    "#----------------------------Matriz de covarianza de los datos----------------------------\n",
    "#Se definen los valores de varianza de cada componente por estación\n",
    "Vd=[2.1**2,2.5**2,5.1**2]*int(Nd/3)\n",
    "#Se convierte la lista de valores a un arreglo numpy y las unidades a metros\n",
    "Vd=np.array(Vd)*(10**-3)\n",
    "#Se especifíca el vector de varianzas como vector columna\n",
    "Vd=Vd.reshape(Nd,1)\n",
    "#Se define una matriz cuya diagonal corresponde al vector de varianzas para obtener la matriz de covarianza de los datos\n",
    "Cd=Vd*np.identity(Nd)\n",
    "#Se obtiene la inversa de la matriz de covarianza de los datos\n",
    "Cdinv=np.linalg.inv(Cd)"
   ]
  },
  {
   "cell_type": "code",
   "execution_count": 6,
   "id": "09623ffc",
   "metadata": {},
   "outputs": [],
   "source": [
    "#------------------------Espacio de parámetros------------------------\n",
    "\n",
    "#Se define el límite inferior de los parámetros\n",
    "liminf=-0.004931\n",
    "#Se define el límite superior de los parámetros\n",
    "limsup=4.931506\n",
    "\n",
    "#Se define un vector con el límite inferior de cada parámetro\n",
    "a=np.zeros((1,Nm))+liminf\n",
    "#Se define un vector con el límite superior de cada parámetro\n",
    "b=np.zeros((1,Nm))+limsup\n",
    "#Se define un valor de alpha\n",
    "alpha=8\n",
    "#Se define un vector con la media de los parámetros (pp 372, primer parrafo, tercer renglón)\n",
    "m0=np.zeros((Nm,1))+(limsup/2)"
   ]
  },
  {
   "cell_type": "code",
   "execution_count": 7,
   "id": "b1e3c054",
   "metadata": {},
   "outputs": [],
   "source": [
    "#Se calcula el vector de medias y la matriz de covarianza de la posterior\n",
    "mv_c,Cmv_c=mvCmv(G,d,Cdinv,alpha,limsup,m0)"
   ]
  },
  {
   "cell_type": "code",
   "execution_count": 8,
   "id": "8729f4f9",
   "metadata": {},
   "outputs": [
    {
     "name": "stdout",
     "output_type": "stream",
     "text": [
      "Llevamos 1\n",
      "Llevamos 2\n",
      "Llevamos 3\n",
      "Llevamos 4\n",
      "Llevamos 5\n",
      "Llevamos 6\n",
      "Llevamos 7\n",
      "Llevamos 8\n",
      "Llevamos 9\n",
      "Llevamos 10\n",
      "Llevamos 11\n",
      "Llevamos 12\n",
      "Llevamos 13\n",
      "Llevamos 14\n",
      "Llevamos 15\n",
      "Llevamos 16\n",
      "Llevamos 17\n",
      "Llevamos 18\n",
      "Llevamos 19\n",
      "Llevamos 20\n",
      "Llevamos 21\n",
      "Llevamos 22\n",
      "Llevamos 23\n",
      "Llevamos 24\n",
      "Llevamos 25\n",
      "Llevamos 26\n",
      "Llevamos 27\n",
      "Llevamos 28\n",
      "Llevamos 29\n",
      "Llevamos 30\n",
      "Llevamos 31\n",
      "Llevamos 32\n",
      "Llevamos 33\n",
      "Llevamos 34\n",
      "Llevamos 35\n",
      "Llevamos 36\n",
      "Llevamos 37\n",
      "Llevamos 38\n",
      "Llevamos 39\n",
      "Llevamos 40\n",
      "Llevamos 41\n",
      "Llevamos 42\n",
      "Llevamos 43\n",
      "Llevamos 44\n",
      "Llevamos 45\n",
      "Llevamos 46\n",
      "Llevamos 47\n",
      "Llevamos 48\n",
      "Llevamos 49\n",
      "Llevamos 50\n",
      "Llevamos 51\n",
      "Llevamos 52\n",
      "Llevamos 53\n",
      "Llevamos 54\n",
      "Llevamos 55\n",
      "Llevamos 56\n",
      "Llevamos 57\n",
      "Llevamos 58\n",
      "Llevamos 59\n",
      "Llevamos 60\n",
      "Llevamos 61\n",
      "Llevamos 62\n",
      "Llevamos 63\n",
      "Llevamos 64\n",
      "Llevamos 65\n",
      "Llevamos 66\n",
      "Llevamos 67\n",
      "Llevamos 68\n",
      "Llevamos 69\n",
      "Llevamos 70\n",
      "Llevamos 71\n",
      "Llevamos 72\n",
      "Llevamos 73\n",
      "Llevamos 74\n",
      "Llevamos 75\n",
      "Llevamos 76\n",
      "Llevamos 77\n",
      "Llevamos 78\n",
      "Llevamos 79\n",
      "Llevamos 80\n",
      "Llevamos 81\n",
      "Llevamos 82\n",
      "Llevamos 83\n",
      "Llevamos 84\n",
      "Llevamos 85\n",
      "Llevamos 86\n",
      "Llevamos 87\n",
      "Llevamos 88\n",
      "Llevamos 89\n",
      "Llevamos 90\n",
      "Llevamos 91\n",
      "Llevamos 92\n",
      "Llevamos 93\n",
      "Llevamos 94\n",
      "Llevamos 95\n",
      "Llevamos 96\n",
      "Llevamos 97\n",
      "Llevamos 98\n",
      "Llevamos 99\n",
      "Llevamos 100\n",
      "Llevamos 101\n",
      "Llevamos 102\n",
      "Llevamos 103\n",
      "Llevamos 104\n",
      "Llevamos 105\n",
      "Llevamos 106\n",
      "Llevamos 107\n",
      "Llevamos 108\n",
      "Llevamos 109\n",
      "Llevamos 110\n",
      "Llevamos 111\n",
      "Llevamos 112\n",
      "Llevamos 113\n",
      "Llevamos 114\n",
      "Llevamos 115\n",
      "Llevamos 116\n",
      "Llevamos 117\n",
      "Llevamos 118\n",
      "Llevamos 119\n",
      "Llevamos 120\n",
      "Llevamos 121\n",
      "Llevamos 122\n",
      "Llevamos 123\n",
      "Llevamos 124\n",
      "Llevamos 125\n",
      "Llevamos 126\n",
      "Llevamos 127\n",
      "Llevamos 128\n",
      "Llevamos 129\n",
      "Llevamos 130\n",
      "Llevamos 131\n",
      "Llevamos 132\n",
      "Llevamos 133\n",
      "Llevamos 134\n",
      "Llevamos 135\n",
      "Llevamos 136\n",
      "Llevamos 137\n",
      "Llevamos 138\n",
      "Llevamos 139\n",
      "Llevamos 140\n"
     ]
    }
   ],
   "source": [
    "#Se define un ciclo para cargar las muestras simuladas de la posterior generadas con el notebook \"Programa4_1.ipynb\"\n",
    "for i in range(0,140):\n",
    "    dfaux=pd.read_csv(\"MuestrasCrudo_a\"+str(i+1)+\".txt\", sep=\" \", header=None)\n",
    "    if(i==0):\n",
    "        MuestrasCrudo=np.copy(dfaux.to_numpy())\n",
    "    else:\n",
    "        MuestrasCrudo=np.concatenate((MuestrasCrudo,dfaux.to_numpy()),axis=0)\n",
    "    print(\"Llevamos \"+str(i+1))"
   ]
  },
  {
   "cell_type": "code",
   "execution_count": 9,
   "id": "3e18f8c1",
   "metadata": {},
   "outputs": [
    {
     "name": "stdout",
     "output_type": "stream",
     "text": [
      "[311.04141286]\n"
     ]
    }
   ],
   "source": [
    "#Se obtiene el IAT de las muestras\n",
    "IAT=emcee.autocorr.integrated_time(MuestrasCrudo[:,0])\n",
    "print(IAT)"
   ]
  },
  {
   "cell_type": "code",
   "execution_count": 28,
   "id": "baa2f9e0",
   "metadata": {},
   "outputs": [
    {
     "data": {
      "image/png": "[encoded data removed]",
      "text/plain": [
       "<Figure size 432x288 with 1 Axes>"
      ]
     },
     "metadata": {
      "needs_background": "light"
     },
     "output_type": "display_data"
    }
   ],
   "source": [
    "#Se despliega la gráfica de la log PDF de las muestras simuladas\n",
    "plt.plot(sp.stats.multivariate_normal.logpdf(MuestrasCrudo,mean=mv_c.reshape(Nm),cov=Cmv_c))\n",
    "#Se dibuja una linea vertical de referencia para observar las muestras que se van a conservar \n",
    "plt.axvline(150,c=\"r\")\n",
    "plt.show()"
   ]
  },
  {
   "cell_type": "code",
   "execution_count": 30,
   "id": "16f2b8f9",
   "metadata": {},
   "outputs": [],
   "source": [
    "#Se define a partir de qué muestra se van a utilizar (quemado)\n",
    "Burnin=150\n",
    "#Se define el valor del \"lag\"\n",
    "lag=400\n",
    "#Se asignan las muestras luego de aplicar el quemado y el lag (muestra definitiva)\n",
    "Efectiva=MuestrasCrudo[Burnin::lag,:]"
   ]
  },
  {
   "cell_type": "code",
   "execution_count": 31,
   "id": "ba7b1950",
   "metadata": {},
   "outputs": [],
   "source": [
    "#Se definen arreglos para la media, la desviación estandar y los coeficientes de variación\n",
    "mu=np.zeros(Nm)\n",
    "sd=np.zeros(Nm)\n",
    "CV=np.zeros(Nm)\n",
    "#Se inicia un ciclo para obtener la media la desviación estandar y el coeficientes de variación para cada parámetro\n",
    "for i in range(0,Nm):\n",
    "    mu[i]=np.mean(Efectiva[:,i])\n",
    "    sd[i]=(np.var(Efectiva[:,i]))**0.5\n",
    "    CV[i]=(sd[i]/mu[i])*100"
   ]
  },
  {
   "cell_type": "code",
   "execution_count": 32,
   "id": "287b8cf7",
   "metadata": {},
   "outputs": [],
   "source": [
    "#Se desplazan los valores de coeficiente de variación\n",
    "CV=CV-np.min(CV)\n",
    "#Se normalizan los coeficientes de variación respecto al valor máximo y se multiplican por 100 \n",
    "CV=CV/np.max(CV)"
   ]
  },
  {
   "cell_type": "code",
   "execution_count": 33,
   "id": "8d032c77",
   "metadata": {},
   "outputs": [
    {
     "data": {
      "image/png": "[encoded data removed]",
      "text/plain": [
       "<Figure size 432x288 with 2 Axes>"
      ]
     },
     "metadata": {
      "needs_background": "light"
     },
     "output_type": "display_data"
    }
   ],
   "source": [
    "#Se muestran los coeficientes de variación\n",
    "plt.contourf(np.rot90(CV.reshape(18,18),k=3))\n",
    "plt.colorbar()\n",
    "plt.show()"
   ]
  }
 ],
 "metadata": {
  "kernelspec": {
   "display_name": "Python 3",
   "language": "python",
   "name": "python3"
  },
  "language_info": {
   "codemirror_mode": {
    "name": "ipython",
    "version": 3
   },
   "file_extension": ".py",
   "mimetype": "text/x-python",
   "name": "python",
   "nbconvert_exporter": "python",
   "pygments_lexer": "ipython3",
   "version": "3.9.7"
  }
 },
 "nbformat": 4,
 "nbformat_minor": 5
}
